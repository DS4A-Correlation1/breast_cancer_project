{
 "cells": [
  {
   "cell_type": "code",
   "execution_count": 37,
   "id": "1d2b7429",
   "metadata": {},
   "outputs": [],
   "source": [
    "import numpy as np\n",
    "import pandas as pd"
   ]
  },
  {
   "cell_type": "code",
   "execution_count": 38,
   "id": "4b39862d",
   "metadata": {},
   "outputs": [],
   "source": [
    "data = pd.read_csv('datasets/risk_dataset_2.csv', header=None )\n",
    "data.columns = ['menopaus', 'age_grp', 'density', 'race', 'hispanic', 'bmi', 'age_first', 'nrelbc', 'brstproc', \n",
    "              'lastmamm', 'surgmeno', 'hrt', 'invasive', 'cancer', 'training', 'count']"
   ]
  },
  {
   "cell_type": "code",
   "execution_count": 40,
   "id": "fbebf480",
   "metadata": {},
   "outputs": [
    {
     "data": {
      "text/html": [
       "<div>\n",
       "<style scoped>\n",
       "    .dataframe tbody tr th:only-of-type {\n",
       "        vertical-align: middle;\n",
       "    }\n",
       "\n",
       "    .dataframe tbody tr th {\n",
       "        vertical-align: top;\n",
       "    }\n",
       "\n",
       "    .dataframe thead th {\n",
       "        text-align: right;\n",
       "    }\n",
       "</style>\n",
       "<table border=\"1\" class=\"dataframe\">\n",
       "  <thead>\n",
       "    <tr style=\"text-align: right;\">\n",
       "      <th></th>\n",
       "      <th>menopaus</th>\n",
       "      <th>age_grp</th>\n",
       "      <th>density</th>\n",
       "      <th>race</th>\n",
       "      <th>hispanic</th>\n",
       "      <th>bmi</th>\n",
       "      <th>age_first</th>\n",
       "      <th>nrelbc</th>\n",
       "      <th>brstproc</th>\n",
       "      <th>lastmamm</th>\n",
       "      <th>surgmeno</th>\n",
       "      <th>hrt</th>\n",
       "      <th>cancer</th>\n",
       "    </tr>\n",
       "  </thead>\n",
       "  <tbody>\n",
       "    <tr>\n",
       "      <th>0</th>\n",
       "      <td>0</td>\n",
       "      <td>1</td>\n",
       "      <td>1</td>\n",
       "      <td>1</td>\n",
       "      <td>0</td>\n",
       "      <td>1</td>\n",
       "      <td>0</td>\n",
       "      <td>0</td>\n",
       "      <td>0</td>\n",
       "      <td>0</td>\n",
       "      <td>9</td>\n",
       "      <td>9</td>\n",
       "      <td>0</td>\n",
       "    </tr>\n",
       "    <tr>\n",
       "      <th>1</th>\n",
       "      <td>0</td>\n",
       "      <td>1</td>\n",
       "      <td>1</td>\n",
       "      <td>1</td>\n",
       "      <td>0</td>\n",
       "      <td>1</td>\n",
       "      <td>0</td>\n",
       "      <td>0</td>\n",
       "      <td>0</td>\n",
       "      <td>9</td>\n",
       "      <td>9</td>\n",
       "      <td>9</td>\n",
       "      <td>0</td>\n",
       "    </tr>\n",
       "    <tr>\n",
       "      <th>2</th>\n",
       "      <td>0</td>\n",
       "      <td>1</td>\n",
       "      <td>1</td>\n",
       "      <td>1</td>\n",
       "      <td>0</td>\n",
       "      <td>1</td>\n",
       "      <td>0</td>\n",
       "      <td>0</td>\n",
       "      <td>0</td>\n",
       "      <td>9</td>\n",
       "      <td>9</td>\n",
       "      <td>9</td>\n",
       "      <td>0</td>\n",
       "    </tr>\n",
       "    <tr>\n",
       "      <th>3</th>\n",
       "      <td>0</td>\n",
       "      <td>1</td>\n",
       "      <td>1</td>\n",
       "      <td>1</td>\n",
       "      <td>0</td>\n",
       "      <td>1</td>\n",
       "      <td>1</td>\n",
       "      <td>0</td>\n",
       "      <td>0</td>\n",
       "      <td>0</td>\n",
       "      <td>9</td>\n",
       "      <td>9</td>\n",
       "      <td>0</td>\n",
       "    </tr>\n",
       "    <tr>\n",
       "      <th>4</th>\n",
       "      <td>0</td>\n",
       "      <td>1</td>\n",
       "      <td>1</td>\n",
       "      <td>1</td>\n",
       "      <td>0</td>\n",
       "      <td>1</td>\n",
       "      <td>1</td>\n",
       "      <td>0</td>\n",
       "      <td>1</td>\n",
       "      <td>9</td>\n",
       "      <td>9</td>\n",
       "      <td>9</td>\n",
       "      <td>0</td>\n",
       "    </tr>\n",
       "    <tr>\n",
       "      <th>...</th>\n",
       "      <td>...</td>\n",
       "      <td>...</td>\n",
       "      <td>...</td>\n",
       "      <td>...</td>\n",
       "      <td>...</td>\n",
       "      <td>...</td>\n",
       "      <td>...</td>\n",
       "      <td>...</td>\n",
       "      <td>...</td>\n",
       "      <td>...</td>\n",
       "      <td>...</td>\n",
       "      <td>...</td>\n",
       "      <td>...</td>\n",
       "    </tr>\n",
       "    <tr>\n",
       "      <th>181898</th>\n",
       "      <td>9</td>\n",
       "      <td>4</td>\n",
       "      <td>9</td>\n",
       "      <td>9</td>\n",
       "      <td>9</td>\n",
       "      <td>9</td>\n",
       "      <td>9</td>\n",
       "      <td>9</td>\n",
       "      <td>9</td>\n",
       "      <td>1</td>\n",
       "      <td>9</td>\n",
       "      <td>9</td>\n",
       "      <td>0</td>\n",
       "    </tr>\n",
       "    <tr>\n",
       "      <th>181899</th>\n",
       "      <td>9</td>\n",
       "      <td>4</td>\n",
       "      <td>9</td>\n",
       "      <td>9</td>\n",
       "      <td>9</td>\n",
       "      <td>9</td>\n",
       "      <td>9</td>\n",
       "      <td>9</td>\n",
       "      <td>9</td>\n",
       "      <td>9</td>\n",
       "      <td>9</td>\n",
       "      <td>9</td>\n",
       "      <td>0</td>\n",
       "    </tr>\n",
       "    <tr>\n",
       "      <th>181900</th>\n",
       "      <td>9</td>\n",
       "      <td>4</td>\n",
       "      <td>9</td>\n",
       "      <td>9</td>\n",
       "      <td>9</td>\n",
       "      <td>9</td>\n",
       "      <td>9</td>\n",
       "      <td>9</td>\n",
       "      <td>9</td>\n",
       "      <td>9</td>\n",
       "      <td>9</td>\n",
       "      <td>9</td>\n",
       "      <td>0</td>\n",
       "    </tr>\n",
       "    <tr>\n",
       "      <th>181901</th>\n",
       "      <td>9</td>\n",
       "      <td>4</td>\n",
       "      <td>9</td>\n",
       "      <td>9</td>\n",
       "      <td>9</td>\n",
       "      <td>9</td>\n",
       "      <td>9</td>\n",
       "      <td>9</td>\n",
       "      <td>9</td>\n",
       "      <td>9</td>\n",
       "      <td>9</td>\n",
       "      <td>9</td>\n",
       "      <td>1</td>\n",
       "    </tr>\n",
       "    <tr>\n",
       "      <th>181902</th>\n",
       "      <td>9</td>\n",
       "      <td>4</td>\n",
       "      <td>9</td>\n",
       "      <td>9</td>\n",
       "      <td>9</td>\n",
       "      <td>9</td>\n",
       "      <td>9</td>\n",
       "      <td>9</td>\n",
       "      <td>9</td>\n",
       "      <td>9</td>\n",
       "      <td>9</td>\n",
       "      <td>9</td>\n",
       "      <td>1</td>\n",
       "    </tr>\n",
       "  </tbody>\n",
       "</table>\n",
       "<p>181903 rows × 13 columns</p>\n",
       "</div>"
      ],
      "text/plain": [
       "        menopaus  age_grp  density  race  hispanic  bmi  age_first  nrelbc  \\\n",
       "0              0        1        1     1         0    1          0       0   \n",
       "1              0        1        1     1         0    1          0       0   \n",
       "2              0        1        1     1         0    1          0       0   \n",
       "3              0        1        1     1         0    1          1       0   \n",
       "4              0        1        1     1         0    1          1       0   \n",
       "...          ...      ...      ...   ...       ...  ...        ...     ...   \n",
       "181898         9        4        9     9         9    9          9       9   \n",
       "181899         9        4        9     9         9    9          9       9   \n",
       "181900         9        4        9     9         9    9          9       9   \n",
       "181901         9        4        9     9         9    9          9       9   \n",
       "181902         9        4        9     9         9    9          9       9   \n",
       "\n",
       "        brstproc  lastmamm  surgmeno  hrt  cancer  \n",
       "0              0         0         9    9       0  \n",
       "1              0         9         9    9       0  \n",
       "2              0         9         9    9       0  \n",
       "3              0         0         9    9       0  \n",
       "4              1         9         9    9       0  \n",
       "...          ...       ...       ...  ...     ...  \n",
       "181898         9         1         9    9       0  \n",
       "181899         9         9         9    9       0  \n",
       "181900         9         9         9    9       0  \n",
       "181901         9         9         9    9       1  \n",
       "181902         9         9         9    9       1  \n",
       "\n",
       "[181903 rows x 13 columns]"
      ]
     },
     "execution_count": 40,
     "metadata": {},
     "output_type": "execute_result"
    }
   ],
   "source": [
    "data = data.drop(columns=['invasive','training','count'])\n",
    "data"
   ]
  },
  {
   "cell_type": "code",
   "execution_count": 41,
   "id": "178d60ae",
   "metadata": {},
   "outputs": [],
   "source": [
    "#replace unknowns with null\n",
    "cols = ['menopaus', 'density', 'race', 'hispanic', 'bmi', 'age_first', 'nrelbc', \n",
    "        'brstproc', 'lastmamm', 'surgmeno', 'hrt']\n",
    "data[cols] = data[cols].replace({9:np.nan})\n",
    "#remove rows that have less than 3 known feature with exception of invasive, count, cancer & training\n",
    "data = data[data.isnull().sum(axis=1) < 9]"
   ]
  },
  {
   "cell_type": "code",
   "execution_count": 43,
   "id": "81abfbaf",
   "metadata": {},
   "outputs": [],
   "source": [
    "X = data[['menopaus', 'age_grp', 'density', 'race', 'hispanic', 'bmi', 'age_first', 'nrelbc', 'brstproc', 'lastmamm', 'surgmeno', 'hrt']]\n",
    "y = data['cancer']"
   ]
  },
  {
   "cell_type": "code",
   "execution_count": 48,
   "id": "605bbd40",
   "metadata": {},
   "outputs": [],
   "source": [
    "#KNN imputation\n",
    "from sklearn.impute import KNNImputer\n",
    "imputer = KNNImputer(n_neighbors=5)\n",
    "X = pd.DataFrame(imputer.fit_transform(X),columns = X.columns)\n"
   ]
  },
  {
   "cell_type": "code",
   "execution_count": 49,
   "id": "40535282",
   "metadata": {},
   "outputs": [],
   "source": [
    "#convert back to ints\n",
    "X[['menopaus', 'age_grp', 'density', 'race', 'hispanic', 'bmi', 'age_first', 'nrelbc', 'brstproc', 'lastmamm', 'surgmeno', 'hrt']] = X[['menopaus', 'age_grp', 'density', 'race', 'hispanic', 'bmi', 'age_first', 'nrelbc', 'brstproc', 'lastmamm', 'surgmeno', 'hrt']].astype(int)\n",
    "#one hot encode race\n",
    "X = pd.get_dummies(X, columns=[\"race\"], drop_first=True)"
   ]
  },
  {
   "cell_type": "code",
   "execution_count": 50,
   "id": "1a55882e",
   "metadata": {},
   "outputs": [
    {
     "data": {
      "text/plain": [
       "0    139107\n",
       "1     41998\n",
       "Name: surgmeno, dtype: int64"
      ]
     },
     "execution_count": 50,
     "metadata": {},
     "output_type": "execute_result"
    }
   ],
   "source": [
    "X['surgmeno'].value_counts()"
   ]
  },
  {
   "cell_type": "code",
   "execution_count": 51,
   "id": "639a2095",
   "metadata": {},
   "outputs": [
    {
     "data": {
      "text/plain": [
       "0    127505\n",
       "1     53600\n",
       "Name: hrt, dtype: int64"
      ]
     },
     "execution_count": 51,
     "metadata": {},
     "output_type": "execute_result"
    }
   ],
   "source": [
    "X['hrt'].value_counts()"
   ]
  },
  {
   "cell_type": "code",
   "execution_count": 52,
   "id": "55055aa9",
   "metadata": {},
   "outputs": [
    {
     "name": "stdout",
     "output_type": "stream",
     "text": [
      "Fold:1, Train set: 144884, Test set:36221\n",
      "Fold:2, Train set: 144884, Test set:36221\n",
      "Fold:3, Train set: 144884, Test set:36221\n",
      "Fold:4, Train set: 144884, Test set:36221\n",
      "Fold:5, Train set: 144884, Test set:36221\n"
     ]
    }
   ],
   "source": [
    "#K-Fold for LR and GB\n",
    "#Neural network\n",
    "from sklearn.model_selection import StratifiedKFold\n",
    "kf = StratifiedKFold(n_splits=5, shuffle=True, random_state=42)\n",
    "\n",
    "cnt = 1\n",
    "# split()  method generate indices to split data into training and test set.\n",
    "for train_index, test_index in kf.split(X, y):\n",
    "    print(f'Fold:{cnt}, Train set: {len(train_index)}, Test set:{len(test_index)}')\n",
    "    cnt+=1"
   ]
  },
  {
   "cell_type": "code",
   "execution_count": 55,
   "id": "23eed578",
   "metadata": {},
   "outputs": [
    {
     "name": "stderr",
     "output_type": "stream",
     "text": [
      "/Users/olohireme/miniforge3/envs/mlp/lib/python3.8/site-packages/sklearn/metrics/_classification.py:1248: UndefinedMetricWarning: Precision is ill-defined and being set to 0.0 due to no predicted samples. Use `zero_division` parameter to control this behavior.\n",
      "  _warn_prf(average, modifier, msg_start, len(result))\n",
      "/Users/olohireme/miniforge3/envs/mlp/lib/python3.8/site-packages/sklearn/metrics/_classification.py:1248: UndefinedMetricWarning: Precision is ill-defined and being set to 0.0 due to no predicted samples. Use `zero_division` parameter to control this behavior.\n",
      "  _warn_prf(average, modifier, msg_start, len(result))\n",
      "/Users/olohireme/miniforge3/envs/mlp/lib/python3.8/site-packages/sklearn/metrics/_classification.py:1248: UndefinedMetricWarning: Precision is ill-defined and being set to 0.0 due to no predicted samples. Use `zero_division` parameter to control this behavior.\n",
      "  _warn_prf(average, modifier, msg_start, len(result))\n",
      "/Users/olohireme/miniforge3/envs/mlp/lib/python3.8/site-packages/sklearn/metrics/_classification.py:1248: UndefinedMetricWarning: Precision is ill-defined and being set to 0.0 due to no predicted samples. Use `zero_division` parameter to control this behavior.\n",
      "  _warn_prf(average, modifier, msg_start, len(result))\n",
      "/Users/olohireme/miniforge3/envs/mlp/lib/python3.8/site-packages/sklearn/metrics/_classification.py:1248: UndefinedMetricWarning: Precision is ill-defined and being set to 0.0 due to no predicted samples. Use `zero_division` parameter to control this behavior.\n",
      "  _warn_prf(average, modifier, msg_start, len(result))\n",
      "/Users/olohireme/miniforge3/envs/mlp/lib/python3.8/site-packages/sklearn/metrics/_classification.py:1248: UndefinedMetricWarning: Precision is ill-defined and being set to 0.0 due to no predicted samples. Use `zero_division` parameter to control this behavior.\n",
      "  _warn_prf(average, modifier, msg_start, len(result))\n",
      "/Users/olohireme/miniforge3/envs/mlp/lib/python3.8/site-packages/sklearn/metrics/_classification.py:1248: UndefinedMetricWarning: Precision is ill-defined and being set to 0.0 due to no predicted samples. Use `zero_division` parameter to control this behavior.\n",
      "  _warn_prf(average, modifier, msg_start, len(result))\n",
      "/Users/olohireme/miniforge3/envs/mlp/lib/python3.8/site-packages/sklearn/metrics/_classification.py:1248: UndefinedMetricWarning: Precision is ill-defined and being set to 0.0 due to no predicted samples. Use `zero_division` parameter to control this behavior.\n",
      "  _warn_prf(average, modifier, msg_start, len(result))\n"
     ]
    },
    {
     "name": "stdout",
     "output_type": "stream",
     "text": [
      "dict_keys(['fit_time', 'score_time', 'test_acc', 'train_acc', 'test_prec', 'train_prec', 'test_rec', 'train_rec'])\n",
      "[0.96579332 0.96579332 0.96579332 0.96579332 0.96576572]\n"
     ]
    },
    {
     "name": "stderr",
     "output_type": "stream",
     "text": [
      "/Users/olohireme/miniforge3/envs/mlp/lib/python3.8/site-packages/sklearn/metrics/_classification.py:1248: UndefinedMetricWarning: Precision is ill-defined and being set to 0.0 due to no predicted samples. Use `zero_division` parameter to control this behavior.\n",
      "  _warn_prf(average, modifier, msg_start, len(result))\n",
      "/Users/olohireme/miniforge3/envs/mlp/lib/python3.8/site-packages/sklearn/metrics/_classification.py:1248: UndefinedMetricWarning: Precision is ill-defined and being set to 0.0 due to no predicted samples. Use `zero_division` parameter to control this behavior.\n",
      "  _warn_prf(average, modifier, msg_start, len(result))\n"
     ]
    }
   ],
   "source": [
    "from sklearn.model_selection import cross_validate\n",
    "from sklearn.linear_model import LogisticRegression\n",
    "\n",
    "scoring = {'acc': 'accuracy',\n",
    "           'prec': 'precision',\n",
    "           'rec': 'recall'}\n",
    "\n",
    "\n",
    "clf = LogisticRegression()\n",
    "scores = cross_validate(clf, X, y, scoring=scoring,\n",
    "                         cv=5, return_train_score=True)\n",
    "print(scores.keys())\n",
    "print(scores['test_acc']) "
   ]
  },
  {
   "cell_type": "code",
   "execution_count": 56,
   "id": "a3c45254",
   "metadata": {},
   "outputs": [
    {
     "data": {
      "text/plain": [
       "{'fit_time': array([0.384588  , 0.28637075, 0.27697086, 0.1956017 , 0.32422805]),\n",
       " 'score_time': array([0.01399803, 0.01117516, 0.01198387, 0.01141214, 0.0112431 ]),\n",
       " 'test_acc': array([0.96579332, 0.96579332, 0.96579332, 0.96579332, 0.96576572]),\n",
       " 'train_acc': array([0.96578642, 0.96578642, 0.96578642, 0.96578642, 0.96579332]),\n",
       " 'test_prec': array([0., 0., 0., 0., 0.]),\n",
       " 'train_prec': array([0., 0., 0., 0., 0.]),\n",
       " 'test_rec': array([0., 0., 0., 0., 0.]),\n",
       " 'train_rec': array([0., 0., 0., 0., 0.])}"
      ]
     },
     "execution_count": 56,
     "metadata": {},
     "output_type": "execute_result"
    }
   ],
   "source": [
    "scores"
   ]
  },
  {
   "cell_type": "code",
   "execution_count": 57,
   "id": "0e52c6bf",
   "metadata": {},
   "outputs": [
    {
     "name": "stdout",
     "output_type": "stream",
     "text": [
      "Init Plugin\n",
      "Init Graph Optimizer\n",
      "Init Kernel\n"
     ]
    }
   ],
   "source": [
    "import tensorflow as tf\n",
    "from keras.models import Sequential, Model\n",
    "from keras.layers import Dense, Dropout, Embedding, Input\n"
   ]
  },
  {
   "cell_type": "code",
   "execution_count": 61,
   "id": "804b5706",
   "metadata": {},
   "outputs": [],
   "source": [
    "#split into train and test\n",
    "from sklearn.model_selection import train_test_split\n",
    "from imblearn.over_sampling import SMOTE \n",
    "\n",
    "\n",
    "X_train, X_test, y_train, y_test = train_test_split(X, y, test_size=0.2, random_state=42)\n",
    "# randomly oversample minority\n",
    "sm = SMOTE(sampling_strategy = 0.5, random_state=42)\n",
    "X_sm, y_sm = sm.fit_resample(X_train, y_train)  \n",
    "#split train into train and val\n",
    "X_train, X_val, y_train, y_val = train_test_split(X_sm, y_sm, test_size=0.1, random_state=42)"
   ]
  },
  {
   "cell_type": "code",
   "execution_count": 62,
   "id": "ec154a2a",
   "metadata": {},
   "outputs": [
    {
     "name": "stdout",
     "output_type": "stream",
     "text": [
      "Metal device set to: Apple M1\n"
     ]
    },
    {
     "name": "stderr",
     "output_type": "stream",
     "text": [
      "2021-10-20 16:16:51.290940: I tensorflow/core/common_runtime/pluggable_device/pluggable_device_factory.cc:305] Could not identify NUMA node of platform GPU ID 0, defaulting to 0. Your kernel may not have been built with NUMA support.\n",
      "2021-10-20 16:16:51.291077: I tensorflow/core/common_runtime/pluggable_device/pluggable_device_factory.cc:271] Created TensorFlow device (/job:localhost/replica:0/task:0/device:GPU:0 with 0 MB memory) -> physical PluggableDevice (device: 0, name: METAL, pci bus id: <undefined>)\n"
     ]
    }
   ],
   "source": [
    "model_nn = tf.keras.models.Sequential([\n",
    "    tf.keras.layers.Dense(units=30,input_dim=X_train.shape[1], activation='relu'),\n",
    "    tf.keras.layers.Dropout(0.15),\n",
    "    tf.keras.layers.Dense(units=15, activation='relu'),\n",
    "    tf.keras.layers.Dropout(0.15),\n",
    "    tf.keras.layers.Dense(units=7, activation='relu'),\n",
    "    tf.keras.layers.Dropout(0.15),\n",
    "    tf.keras.layers.Dense(units=3, activation='relu'),\n",
    "    tf.keras.layers.Dropout(0.15),\n",
    "    tf.keras.layers.Dense(units=1, activation='sigmoid')\n",
    "])\n",
    "\n",
    "#Compiling the ANN\n",
    "opt = tf.keras.optimizers.Adam(learning_rate=0.1)\n",
    "model_nn.compile(loss=\"binary_crossentropy\", optimizer=opt, metrics=[\"accuracy\"])"
   ]
  },
  {
   "cell_type": "code",
   "execution_count": 63,
   "id": "d62aed88",
   "metadata": {},
   "outputs": [
    {
     "name": "stderr",
     "output_type": "stream",
     "text": [
      "2021-10-20 16:17:24.341942: I tensorflow/compiler/mlir/mlir_graph_optimization_pass.cc:176] None of the MLIR Optimization Passes are enabled (registered 2)\n",
      "2021-10-20 16:17:24.342194: W tensorflow/core/platform/profile_utils/cpu_utils.cc:128] Failed to get CPU frequency: 0 Hz\n",
      "2021-10-20 16:17:24.504119: I tensorflow/core/grappler/optimizers/custom_graph_optimizer_registry.cc:112] Plugin optimizer for device_type GPU is enabled.\n"
     ]
    },
    {
     "name": "stdout",
     "output_type": "stream",
     "text": [
      "Epoch 1/100\n",
      "2952/2953 [============================>.] - ETA: 0s - loss: 0.6384 - accuracy: 0.6662"
     ]
    },
    {
     "name": "stderr",
     "output_type": "stream",
     "text": [
      "2021-10-20 16:18:01.515911: I tensorflow/core/grappler/optimizers/custom_graph_optimizer_registry.cc:112] Plugin optimizer for device_type GPU is enabled.\n"
     ]
    },
    {
     "name": "stdout",
     "output_type": "stream",
     "text": [
      "2953/2953 [==============================] - 39s 13ms/step - loss: 0.6384 - accuracy: 0.6662 - val_loss: 0.6387 - val_accuracy: 0.6682\n",
      "Epoch 2/100\n",
      "2953/2953 [==============================] - 34s 11ms/step - loss: 0.6381 - accuracy: 0.6665 - val_loss: 0.6380 - val_accuracy: 0.6682\n",
      "Epoch 3/100\n",
      "2953/2953 [==============================] - 34s 12ms/step - loss: 0.6380 - accuracy: 0.6665 - val_loss: 0.6355 - val_accuracy: 0.6682\n",
      "Epoch 4/100\n",
      "2953/2953 [==============================] - 35s 12ms/step - loss: 0.6381 - accuracy: 0.6665 - val_loss: 0.6373 - val_accuracy: 0.6682\n",
      "Epoch 5/100\n",
      "2953/2953 [==============================] - 34s 12ms/step - loss: 0.6381 - accuracy: 0.6665 - val_loss: 0.6355 - val_accuracy: 0.6682\n",
      "Epoch 6/100\n",
      "2953/2953 [==============================] - 34s 12ms/step - loss: 0.6380 - accuracy: 0.6665 - val_loss: 0.6357 - val_accuracy: 0.6682\n",
      "Epoch 7/100\n",
      "2953/2953 [==============================] - 34s 12ms/step - loss: 0.6381 - accuracy: 0.6665 - val_loss: 0.6387 - val_accuracy: 0.6682\n",
      "Epoch 8/100\n",
      "2953/2953 [==============================] - 35s 12ms/step - loss: 0.6381 - accuracy: 0.6665 - val_loss: 0.6355 - val_accuracy: 0.6682\n",
      "Epoch 9/100\n",
      "2953/2953 [==============================] - 35s 12ms/step - loss: 0.6380 - accuracy: 0.6665 - val_loss: 0.6355 - val_accuracy: 0.6682\n",
      "Epoch 10/100\n",
      "2953/2953 [==============================] - 34s 11ms/step - loss: 0.6380 - accuracy: 0.6665 - val_loss: 0.6356 - val_accuracy: 0.6682\n",
      "Epoch 11/100\n",
      "2953/2953 [==============================] - 34s 12ms/step - loss: 0.6380 - accuracy: 0.6665 - val_loss: 0.6441 - val_accuracy: 0.6682\n",
      "Epoch 12/100\n",
      "2953/2953 [==============================] - 34s 12ms/step - loss: 0.6380 - accuracy: 0.6665 - val_loss: 0.6355 - val_accuracy: 0.6682\n",
      "Epoch 13/100\n",
      "2953/2953 [==============================] - 34s 12ms/step - loss: 0.6378 - accuracy: 0.6665 - val_loss: 0.6363 - val_accuracy: 0.6682\n",
      "Epoch 14/100\n",
      "2953/2953 [==============================] - 34s 12ms/step - loss: 0.6381 - accuracy: 0.6665 - val_loss: 0.6366 - val_accuracy: 0.6682\n",
      "Epoch 15/100\n",
      "2953/2953 [==============================] - 35s 12ms/step - loss: 0.6382 - accuracy: 0.6665 - val_loss: 0.6371 - val_accuracy: 0.6682\n",
      "Epoch 16/100\n",
      "2953/2953 [==============================] - 35s 12ms/step - loss: 0.6382 - accuracy: 0.6665 - val_loss: 0.6355 - val_accuracy: 0.6682\n",
      "Epoch 17/100\n",
      "2953/2953 [==============================] - 34s 11ms/step - loss: 0.6378 - accuracy: 0.6665 - val_loss: 0.6371 - val_accuracy: 0.6682\n",
      "Epoch 18/100\n",
      "2953/2953 [==============================] - 35s 12ms/step - loss: 0.6380 - accuracy: 0.6665 - val_loss: 0.6383 - val_accuracy: 0.6682\n",
      "Epoch 19/100\n",
      "2953/2953 [==============================] - 34s 12ms/step - loss: 0.6380 - accuracy: 0.6665 - val_loss: 0.6377 - val_accuracy: 0.6682\n",
      "Epoch 20/100\n",
      "2953/2953 [==============================] - 35s 12ms/step - loss: 0.6380 - accuracy: 0.6665 - val_loss: 0.6356 - val_accuracy: 0.6682\n",
      "Epoch 21/100\n",
      "2953/2953 [==============================] - 35s 12ms/step - loss: 0.6380 - accuracy: 0.6665 - val_loss: 0.6388 - val_accuracy: 0.6682\n",
      "Epoch 22/100\n",
      "2953/2953 [==============================] - 36s 12ms/step - loss: 0.6380 - accuracy: 0.6665 - val_loss: 0.6357 - val_accuracy: 0.6682\n",
      "Epoch 23/100\n",
      "2953/2953 [==============================] - 36s 12ms/step - loss: 0.6381 - accuracy: 0.6665 - val_loss: 0.6360 - val_accuracy: 0.6682\n",
      "Epoch 24/100\n",
      "2953/2953 [==============================] - 36s 12ms/step - loss: 0.6379 - accuracy: 0.6665 - val_loss: 0.6393 - val_accuracy: 0.6682\n",
      "Epoch 25/100\n",
      "2953/2953 [==============================] - 35s 12ms/step - loss: 0.6380 - accuracy: 0.6665 - val_loss: 0.6357 - val_accuracy: 0.6682\n",
      "Epoch 26/100\n",
      "2953/2953 [==============================] - 34s 11ms/step - loss: 0.6379 - accuracy: 0.6665 - val_loss: 0.6355 - val_accuracy: 0.6682\n",
      "Epoch 27/100\n",
      "2953/2953 [==============================] - 34s 11ms/step - loss: 0.6380 - accuracy: 0.6665 - val_loss: 0.6367 - val_accuracy: 0.6682\n",
      "Epoch 28/100\n",
      "2953/2953 [==============================] - 36s 12ms/step - loss: 0.6381 - accuracy: 0.6665 - val_loss: 0.6369 - val_accuracy: 0.6682\n",
      "Epoch 29/100\n",
      "2953/2953 [==============================] - 36s 12ms/step - loss: 0.6380 - accuracy: 0.6665 - val_loss: 0.6376 - val_accuracy: 0.6682\n",
      "Epoch 30/100\n",
      "2953/2953 [==============================] - 35s 12ms/step - loss: 0.6379 - accuracy: 0.6665 - val_loss: 0.6367 - val_accuracy: 0.6682\n",
      "Epoch 31/100\n",
      "2953/2953 [==============================] - 35s 12ms/step - loss: 0.6381 - accuracy: 0.6665 - val_loss: 0.6367 - val_accuracy: 0.6682\n",
      "Epoch 32/100\n",
      "2953/2953 [==============================] - 35s 12ms/step - loss: 0.6379 - accuracy: 0.6665 - val_loss: 0.6357 - val_accuracy: 0.6682\n",
      "Epoch 33/100\n",
      "2953/2953 [==============================] - 35s 12ms/step - loss: 0.6381 - accuracy: 0.6665 - val_loss: 0.6356 - val_accuracy: 0.6682\n",
      "Epoch 34/100\n",
      "2953/2953 [==============================] - 34s 12ms/step - loss: 0.6379 - accuracy: 0.6665 - val_loss: 0.6368 - val_accuracy: 0.6682\n",
      "Epoch 35/100\n",
      "2953/2953 [==============================] - 35s 12ms/step - loss: 0.6379 - accuracy: 0.6665 - val_loss: 0.6382 - val_accuracy: 0.6682\n",
      "Epoch 36/100\n",
      "2953/2953 [==============================] - 36s 12ms/step - loss: 0.6380 - accuracy: 0.6665 - val_loss: 0.6390 - val_accuracy: 0.6682\n",
      "Epoch 37/100\n",
      "2953/2953 [==============================] - 39s 13ms/step - loss: 0.6381 - accuracy: 0.6665 - val_loss: 0.6356 - val_accuracy: 0.6682\n",
      "Epoch 38/100\n",
      "2953/2953 [==============================] - 39s 13ms/step - loss: 0.6379 - accuracy: 0.6665 - val_loss: 0.6385 - val_accuracy: 0.6682\n",
      "Epoch 39/100\n",
      "2953/2953 [==============================] - 34s 12ms/step - loss: 0.6380 - accuracy: 0.6665 - val_loss: 0.6359 - val_accuracy: 0.6682\n",
      "Epoch 40/100\n",
      "2953/2953 [==============================] - 37s 12ms/step - loss: 0.6379 - accuracy: 0.6665 - val_loss: 0.6355 - val_accuracy: 0.6682\n",
      "Epoch 41/100\n",
      "2953/2953 [==============================] - 35s 12ms/step - loss: 0.6381 - accuracy: 0.6665 - val_loss: 0.6355 - val_accuracy: 0.6682\n",
      "Epoch 42/100\n",
      "2953/2953 [==============================] - 35s 12ms/step - loss: 0.6382 - accuracy: 0.6665 - val_loss: 0.6371 - val_accuracy: 0.6682\n",
      "Epoch 43/100\n",
      "2953/2953 [==============================] - 35s 12ms/step - loss: 0.6380 - accuracy: 0.6665 - val_loss: 0.6359 - val_accuracy: 0.6682\n",
      "Epoch 44/100\n",
      "2953/2953 [==============================] - 35s 12ms/step - loss: 0.6380 - accuracy: 0.6665 - val_loss: 0.6369 - val_accuracy: 0.6682\n",
      "Epoch 45/100\n",
      "2953/2953 [==============================] - 34s 12ms/step - loss: 0.6381 - accuracy: 0.6665 - val_loss: 0.6356 - val_accuracy: 0.6682\n",
      "Epoch 46/100\n",
      "2953/2953 [==============================] - 35s 12ms/step - loss: 0.6379 - accuracy: 0.6665 - val_loss: 0.6386 - val_accuracy: 0.6682\n",
      "Epoch 47/100\n",
      "2953/2953 [==============================] - 34s 12ms/step - loss: 0.6381 - accuracy: 0.6665 - val_loss: 0.6356 - val_accuracy: 0.6682\n",
      "Epoch 48/100\n",
      "2953/2953 [==============================] - 34s 12ms/step - loss: 0.6379 - accuracy: 0.6665 - val_loss: 0.6356 - val_accuracy: 0.6682\n",
      "Epoch 49/100\n",
      "2953/2953 [==============================] - 35s 12ms/step - loss: 0.6380 - accuracy: 0.6665 - val_loss: 0.6383 - val_accuracy: 0.6682\n",
      "Epoch 50/100\n",
      "2953/2953 [==============================] - 34s 12ms/step - loss: 0.6381 - accuracy: 0.6665 - val_loss: 0.6355 - val_accuracy: 0.6682\n",
      "Epoch 51/100\n",
      "2953/2953 [==============================] - 34s 12ms/step - loss: 0.6380 - accuracy: 0.6665 - val_loss: 0.6364 - val_accuracy: 0.6682\n",
      "Epoch 52/100\n",
      "2953/2953 [==============================] - 34s 12ms/step - loss: 0.6381 - accuracy: 0.6665 - val_loss: 0.6367 - val_accuracy: 0.6682\n",
      "Epoch 53/100\n",
      "2953/2953 [==============================] - 34s 12ms/step - loss: 0.6379 - accuracy: 0.6665 - val_loss: 0.6362 - val_accuracy: 0.6682\n",
      "Epoch 54/100\n",
      "2953/2953 [==============================] - 35s 12ms/step - loss: 0.6382 - accuracy: 0.6665 - val_loss: 0.6355 - val_accuracy: 0.6682\n",
      "Epoch 55/100\n",
      "2953/2953 [==============================] - 34s 12ms/step - loss: 0.6382 - accuracy: 0.6665 - val_loss: 0.6361 - val_accuracy: 0.6682\n",
      "Epoch 56/100\n",
      "2953/2953 [==============================] - 34s 12ms/step - loss: 0.6381 - accuracy: 0.6665 - val_loss: 0.6358 - val_accuracy: 0.6682\n",
      "Epoch 57/100\n",
      "2953/2953 [==============================] - 37s 13ms/step - loss: 0.6379 - accuracy: 0.6665 - val_loss: 0.6362 - val_accuracy: 0.6682\n",
      "Epoch 58/100\n",
      "2953/2953 [==============================] - 35s 12ms/step - loss: 0.6381 - accuracy: 0.6665 - val_loss: 0.6355 - val_accuracy: 0.6682\n",
      "Epoch 59/100\n",
      "2953/2953 [==============================] - 35s 12ms/step - loss: 0.6379 - accuracy: 0.6665 - val_loss: 0.6372 - val_accuracy: 0.6682\n",
      "Epoch 60/100\n",
      "2953/2953 [==============================] - 34s 12ms/step - loss: 0.6378 - accuracy: 0.6665 - val_loss: 0.6356 - val_accuracy: 0.6682\n",
      "Epoch 61/100\n",
      "2953/2953 [==============================] - 36s 12ms/step - loss: 0.6379 - accuracy: 0.6665 - val_loss: 0.6364 - val_accuracy: 0.6682\n",
      "Epoch 62/100\n",
      "2953/2953 [==============================] - 35s 12ms/step - loss: 0.6382 - accuracy: 0.6665 - val_loss: 0.6357 - val_accuracy: 0.6682\n",
      "Epoch 63/100\n",
      "2953/2953 [==============================] - 34s 12ms/step - loss: 0.6380 - accuracy: 0.6665 - val_loss: 0.6360 - val_accuracy: 0.6682\n",
      "Epoch 64/100\n",
      "2953/2953 [==============================] - 34s 12ms/step - loss: 0.6379 - accuracy: 0.6665 - val_loss: 0.6382 - val_accuracy: 0.6682\n",
      "Epoch 65/100\n",
      "2953/2953 [==============================] - 34s 12ms/step - loss: 0.6379 - accuracy: 0.6665 - val_loss: 0.6387 - val_accuracy: 0.6682\n",
      "Epoch 66/100\n",
      "2953/2953 [==============================] - 34s 12ms/step - loss: 0.6379 - accuracy: 0.6665 - val_loss: 0.6356 - val_accuracy: 0.6682\n",
      "Epoch 67/100\n",
      "2953/2953 [==============================] - 35s 12ms/step - loss: 0.6381 - accuracy: 0.6665 - val_loss: 0.6356 - val_accuracy: 0.6682\n",
      "Epoch 68/100\n",
      "2953/2953 [==============================] - 36s 12ms/step - loss: 0.6379 - accuracy: 0.6665 - val_loss: 0.6359 - val_accuracy: 0.6682\n",
      "Epoch 69/100\n",
      "2953/2953 [==============================] - 36s 12ms/step - loss: 0.6380 - accuracy: 0.6665 - val_loss: 0.6370 - val_accuracy: 0.6682\n",
      "Epoch 70/100\n",
      "2953/2953 [==============================] - 36s 12ms/step - loss: 0.6381 - accuracy: 0.6665 - val_loss: 0.6355 - val_accuracy: 0.6682\n",
      "Epoch 71/100\n",
      "2953/2953 [==============================] - 34s 12ms/step - loss: 0.6379 - accuracy: 0.6665 - val_loss: 0.6406 - val_accuracy: 0.6682\n",
      "Epoch 72/100\n",
      "2953/2953 [==============================] - 34s 12ms/step - loss: 0.6378 - accuracy: 0.6665 - val_loss: 0.6373 - val_accuracy: 0.6682\n",
      "Epoch 73/100\n",
      "2953/2953 [==============================] - 34s 12ms/step - loss: 0.6379 - accuracy: 0.6665 - val_loss: 0.6363 - val_accuracy: 0.6682\n",
      "Epoch 74/100\n",
      "2953/2953 [==============================] - 34s 12ms/step - loss: 0.6378 - accuracy: 0.6665 - val_loss: 0.6359 - val_accuracy: 0.6682\n",
      "Epoch 75/100\n",
      "2953/2953 [==============================] - 34s 12ms/step - loss: 0.6381 - accuracy: 0.6665 - val_loss: 0.6359 - val_accuracy: 0.6682\n",
      "Epoch 76/100\n",
      "2953/2953 [==============================] - 35s 12ms/step - loss: 0.6378 - accuracy: 0.6665 - val_loss: 0.6362 - val_accuracy: 0.6682\n",
      "Epoch 77/100\n",
      "2953/2953 [==============================] - 34s 12ms/step - loss: 0.6380 - accuracy: 0.6665 - val_loss: 0.6366 - val_accuracy: 0.6682\n",
      "Epoch 78/100\n",
      "2953/2953 [==============================] - 34s 11ms/step - loss: 0.6379 - accuracy: 0.6665 - val_loss: 0.6355 - val_accuracy: 0.6682\n",
      "Epoch 79/100\n",
      "2953/2953 [==============================] - 34s 11ms/step - loss: 0.6382 - accuracy: 0.6665 - val_loss: 0.6359 - val_accuracy: 0.6682\n",
      "Epoch 80/100\n",
      "2953/2953 [==============================] - 34s 11ms/step - loss: 0.6379 - accuracy: 0.6665 - val_loss: 0.6366 - val_accuracy: 0.6682\n",
      "Epoch 81/100\n",
      "2953/2953 [==============================] - 39s 13ms/step - loss: 0.6379 - accuracy: 0.6665 - val_loss: 0.6376 - val_accuracy: 0.6682\n",
      "Epoch 82/100\n",
      "2953/2953 [==============================] - 34s 12ms/step - loss: 0.6377 - accuracy: 0.6665 - val_loss: 0.6367 - val_accuracy: 0.6682\n",
      "Epoch 83/100\n",
      "2953/2953 [==============================] - 34s 12ms/step - loss: 0.6381 - accuracy: 0.6665 - val_loss: 0.6355 - val_accuracy: 0.6682\n",
      "Epoch 84/100\n",
      "2953/2953 [==============================] - 34s 12ms/step - loss: 0.6380 - accuracy: 0.6665 - val_loss: 0.6358 - val_accuracy: 0.6682\n",
      "Epoch 85/100\n",
      "2953/2953 [==============================] - 34s 12ms/step - loss: 0.6380 - accuracy: 0.6665 - val_loss: 0.6401 - val_accuracy: 0.6682\n",
      "Epoch 86/100\n",
      "2953/2953 [==============================] - 34s 12ms/step - loss: 0.6380 - accuracy: 0.6665 - val_loss: 0.6438 - val_accuracy: 0.6682\n",
      "Epoch 87/100\n",
      "2953/2953 [==============================] - 34s 12ms/step - loss: 0.6381 - accuracy: 0.6665 - val_loss: 0.6357 - val_accuracy: 0.6682\n",
      "Epoch 88/100\n",
      "2953/2953 [==============================] - 34s 12ms/step - loss: 0.6381 - accuracy: 0.6665 - val_loss: 0.6390 - val_accuracy: 0.6682\n",
      "Epoch 89/100\n",
      "2953/2953 [==============================] - 34s 12ms/step - loss: 0.6380 - accuracy: 0.6665 - val_loss: 0.6363 - val_accuracy: 0.6682\n",
      "Epoch 90/100\n",
      "2953/2953 [==============================] - 34s 12ms/step - loss: 0.6379 - accuracy: 0.6665 - val_loss: 0.6359 - val_accuracy: 0.6682\n",
      "Epoch 91/100\n",
      "2953/2953 [==============================] - 35s 12ms/step - loss: 0.6381 - accuracy: 0.6665 - val_loss: 0.6357 - val_accuracy: 0.6682\n",
      "Epoch 92/100\n",
      "2953/2953 [==============================] - 34s 12ms/step - loss: 0.6381 - accuracy: 0.6665 - val_loss: 0.6364 - val_accuracy: 0.6682\n",
      "Epoch 93/100\n",
      "2953/2953 [==============================] - 34s 12ms/step - loss: 0.6380 - accuracy: 0.6665 - val_loss: 0.6390 - val_accuracy: 0.6682\n",
      "Epoch 94/100\n",
      "2953/2953 [==============================] - 34s 12ms/step - loss: 0.6381 - accuracy: 0.6665 - val_loss: 0.6355 - val_accuracy: 0.6682\n",
      "Epoch 95/100\n",
      "2953/2953 [==============================] - 34s 12ms/step - loss: 0.6381 - accuracy: 0.6665 - val_loss: 0.6355 - val_accuracy: 0.6682\n",
      "Epoch 96/100\n",
      "2953/2953 [==============================] - 35s 12ms/step - loss: 0.6379 - accuracy: 0.6665 - val_loss: 0.6370 - val_accuracy: 0.6682\n",
      "Epoch 97/100\n",
      "2953/2953 [==============================] - 34s 12ms/step - loss: 0.6380 - accuracy: 0.6665 - val_loss: 0.6360 - val_accuracy: 0.6682\n",
      "Epoch 98/100\n",
      "2953/2953 [==============================] - 34s 12ms/step - loss: 0.6382 - accuracy: 0.6665 - val_loss: 0.6374 - val_accuracy: 0.6682\n",
      "Epoch 99/100\n",
      "2953/2953 [==============================] - 34s 12ms/step - loss: 0.6381 - accuracy: 0.6665 - val_loss: 0.6363 - val_accuracy: 0.6682\n",
      "Epoch 100/100\n",
      "2953/2953 [==============================] - 34s 12ms/step - loss: 0.6381 - accuracy: 0.6665 - val_loss: 0.6357 - val_accuracy: 0.6682\n",
      "CPU times: user 1h 1min 53s, sys: 26min 10s, total: 1h 28min 4s\n",
      "Wall time: 57min 57s\n"
     ]
    }
   ],
   "source": [
    "%%time\n",
    "#Fitting the classifier to the training set\n",
    "history = model_nn.fit(X_train, y_train, validation_data = (X_val, y_val), batch_size=64, epochs=100)"
   ]
  },
  {
   "cell_type": "code",
   "execution_count": 77,
   "id": "af49b9e3",
   "metadata": {},
   "outputs": [],
   "source": [
    "#convert probabilistic output to binary\n",
    "preds = (model_nn.predict(X_test) > 0.5).astype(\"int32\")"
   ]
  },
  {
   "cell_type": "code",
   "execution_count": 80,
   "id": "44a6c1f5",
   "metadata": {},
   "outputs": [
    {
     "name": "stdout",
     "output_type": "stream",
     "text": [
      "  17/1132 [..............................] - ETA: 7s - loss: 0.3892 - accuracy: 1.0000"
     ]
    },
    {
     "name": "stderr",
     "output_type": "stream",
     "text": [
      "2021-10-20 17:35:19.497467: I tensorflow/core/grappler/optimizers/custom_graph_optimizer_registry.cc:112] Plugin optimizer for device_type GPU is enabled.\n"
     ]
    },
    {
     "name": "stdout",
     "output_type": "stream",
     "text": [
      "1132/1132 [==============================] - 7s 6ms/step - loss: 0.3892 - accuracy: 1.0000\n"
     ]
    },
    {
     "data": {
      "text/plain": [
       "[0.38919901847839355, 1.0]"
      ]
     },
     "execution_count": 80,
     "metadata": {},
     "output_type": "execute_result"
    }
   ],
   "source": [
    "model_nn.evaluate(X_test, preds)"
   ]
  },
  {
   "cell_type": "code",
   "execution_count": 78,
   "id": "c9f961ea",
   "metadata": {},
   "outputs": [
    {
     "name": "stdout",
     "output_type": "stream",
     "text": [
      "Best Test Accuracy:  0.9644957345186495\n",
      "Best Test Precision: 0.0\n",
      "Best Test Recall: 0.0\n"
     ]
    },
    {
     "name": "stderr",
     "output_type": "stream",
     "text": [
      "/Users/olohireme/miniforge3/envs/mlp/lib/python3.8/site-packages/sklearn/metrics/_classification.py:1248: UndefinedMetricWarning: Precision is ill-defined and being set to 0.0 due to no predicted samples. Use `zero_division` parameter to control this behavior.\n",
      "  _warn_prf(average, modifier, msg_start, len(result))\n"
     ]
    }
   ],
   "source": [
    "from sklearn import metrics\n",
    "\n",
    "print(\"Best Test Accuracy: \", metrics.accuracy_score(y_test, preds))\n",
    "print(\"Best Test Precision:\", metrics.precision_score(y_test, preds))\n",
    "print(\"Best Test Recall:\",metrics.recall_score(y_test, preds))"
   ]
  },
  {
   "cell_type": "code",
   "execution_count": 73,
   "id": "14bc0242",
   "metadata": {},
   "outputs": [],
   "source": [
    "import seaborn as sns\n",
    "import matplotlib as plt\n",
    "def plot_cnf_matrix(cnf_matrix):\n",
    "    class_names=[0,1] # name  of classes\n",
    "    fig, ax = plt.subplots()\n",
    "    tick_marks = np.arange(len(class_names))\n",
    "    plt.xticks(tick_marks, class_names)\n",
    "    plt.yticks(tick_marks, class_names)\n",
    "    # create heatmap\n",
    "    sns.heatmap(pd.DataFrame(cnf_matrix), annot=True, cmap=\"YlGnBu\" ,fmt='g')\n",
    "    ax.xaxis.set_label_position(\"top\")\n",
    "    plt.tight_layout()\n",
    "    plt.title('Confusion matrix', y=1.1)\n",
    "    plt.ylabel('Actual label')\n",
    "    plt.xlabel('Predicted label')\n",
    "    ax.xaxis.set_ticklabels(['No Cancer', 'Cancer']); ax.yaxis.set_ticklabels(['No Cancer', 'Cancer']);\n"
   ]
  },
  {
   "cell_type": "code",
   "execution_count": 74,
   "id": "1256bb6d",
   "metadata": {},
   "outputs": [
    {
     "data": {
      "text/plain": [
       "array([[34935,     0],\n",
       "       [ 1286,     0]])"
      ]
     },
     "execution_count": 74,
     "metadata": {},
     "output_type": "execute_result"
    }
   ],
   "source": [
    "cnf_matrix = metrics.confusion_matrix(y_test, y_pred)\n",
    "cnf_matrix"
   ]
  },
  {
   "cell_type": "code",
   "execution_count": 92,
   "id": "7c46ecdf",
   "metadata": {},
   "outputs": [
    {
     "data": {
      "image/png": "[encoded data removed]",
      "text/plain": [
       "<Figure size 432x288 with 2 Axes>"
      ]
     },
     "metadata": {
      "needs_background": "light"
     },
     "output_type": "display_data"
    }
   ],
   "source": [
    "plot_cnf_matrix(cnf_matrix)"
   ]
  },
  {
   "cell_type": "code",
   "execution_count": 84,
   "id": "93712c12",
   "metadata": {},
   "outputs": [
    {
     "name": "stdout",
     "output_type": "stream",
     "text": [
      "Best Test Accuracy:  0.816984622180503\n",
      "Best Test Precision: 0.07762845849802372\n",
      "Best Test Recall: 0.3818040435458787\n",
      "Best Test Area Under Curve 0.6074040970556072\n"
     ]
    }
   ],
   "source": [
    "from sklearn.ensemble import GradientBoostingClassifier\n",
    "# Building model with optimal parameters\n",
    "best_model = GradientBoostingClassifier(n_estimators=450, random_state=0)\n",
    "best_model.fit(X_train, y_train)\n",
    "best_model.fit(X_val, y_val)\n",
    "\n",
    "\n",
    "print(\"Best Test Accuracy: \", metrics.accuracy_score(y_test, best_model.predict(X_test)))\n",
    "print(\"Best Test Precision:\", metrics.precision_score(y_test, best_model.predict(X_test)))\n",
    "print(\"Best Test Recall:\",metrics.recall_score(y_test, best_model.predict(X_test)))\n",
    "fpr, tpr, thresholds = metrics.roc_curve(y_test, best_model.predict(X_test))\n",
    "print(\"Best Test Area Under Curve\", metrics.auc(fpr, tpr))"
   ]
  },
  {
   "cell_type": "code",
   "execution_count": 85,
   "id": "9193f3e2",
   "metadata": {},
   "outputs": [
    {
     "data": {
      "text/plain": [
       "GradientBoostingClassifier(n_estimators=450, random_state=0)"
      ]
     },
     "execution_count": 85,
     "metadata": {},
     "output_type": "execute_result"
    }
   ],
   "source": [
    "from sklearn.model_selection import GridSearchCV\n",
    "\n",
    "g_boost = GradientBoostingClassifier(random_state = 0)\n",
    "\n",
    "g_boost_params = [{'n_estimators':[150, 200, 250, 300, 400, 450]}]\n",
    "g_boost_grid = GridSearchCV(g_boost, g_boost_params, cv=10)\n",
    "g_boost_grid.fit(X_train, y_train)\n",
    "g_boost_average_score = g_boost_grid.cv_results_['mean_test_score'].astype(float)\n",
    "result = g_boost_grid.cv_results_\n",
    "g_boost_grid.best_estimator_"
   ]
  },
  {
   "cell_type": "code",
   "execution_count": 91,
   "id": "a25692bc",
   "metadata": {},
   "outputs": [
    {
     "data": {
      "image/png": "[encoded data removed]",
      "text/plain": [
       "<Figure size 432x288 with 1 Axes>"
      ]
     },
     "metadata": {
      "needs_background": "light"
     },
     "output_type": "display_data"
    }
   ],
   "source": [
    "import matplotlib.pyplot as plt\n",
    "\n",
    "plt.figure()\n",
    "sns.lineplot(x=[150, 200, 250, 300, 400, 450], y=g_boost_average_score)\n",
    "plt.ylabel('Accuracy', fontsize = 12)\n",
    "plt.xlabel('Number of Estimators', fontsize = 12)\n",
    "plt.show()"
   ]
  },
  {
   "cell_type": "code",
   "execution_count": null,
   "id": "c5dd79c4",
   "metadata": {},
   "outputs": [],
   "source": []
  }
 ],
 "metadata": {
  "kernelspec": {
   "display_name": "Python 3 (ipykernel)",
   "language": "python",
   "name": "python3"
  },
  "language_info": {
   "codemirror_mode": {
    "name": "ipython",
    "version": 3
   },
   "file_extension": ".py",
   "mimetype": "text/x-python",
   "name": "python",
   "nbconvert_exporter": "python",
   "pygments_lexer": "ipython3",
   "version": "3.8.10"
  }
 },
 "nbformat": 4,
 "nbformat_minor": 5
}
