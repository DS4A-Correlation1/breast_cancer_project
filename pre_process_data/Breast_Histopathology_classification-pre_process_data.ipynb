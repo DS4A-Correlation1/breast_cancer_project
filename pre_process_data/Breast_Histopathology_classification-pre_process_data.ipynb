{
 "cells": [
  {
   "cell_type": "markdown",
   "metadata": {},
   "source": [
    "## Breats_Histopathology_Classification/Breast Ultrasound Images Dataset "
   ]
  },
  {
   "cell_type": "markdown",
   "metadata": {},
   "source": [
    "  Import The Required Libraries "
   ]
  },
  {
   "cell_type": "code",
   "execution_count": 3,
   "metadata": {},
   "outputs": [],
   "source": [
    "import pandas as pd\n"
   ]
  },
  {
   "cell_type": "code",
   "execution_count": 4,
   "metadata": {},
   "outputs": [],
   "source": [
    "import glob"
   ]
  },
  {
   "cell_type": "code",
   "execution_count": 5,
   "metadata": {},
   "outputs": [],
   "source": [
    "all_data=glob.glob(\"archive/**/*.png\",recursive = True)"
   ]
  },
  {
   "cell_type": "code",
   "execution_count": 6,
   "metadata": {},
   "outputs": [
    {
     "name": "stdout",
     "output_type": "stream",
     "text": [
      "archive/9036/0/9036_idx5_x1051_y2401_class0.png\n",
      "archive/9036/0/9036_idx5_x2951_y951_class0.png\n",
      "archive/9036/0/9036_idx5_x3001_y1451_class0.png\n",
      "archive/9036/0/9036_idx5_x3051_y801_class0.png\n",
      "archive/9036/0/9036_idx5_x951_y1901_class0.png\n",
      "archive/9036/0/9036_idx5_x2251_y751_class0.png\n",
      "archive/9036/0/9036_idx5_x1901_y401_class0.png\n",
      "archive/9036/0/9036_idx5_x3201_y1101_class0.png\n",
      "archive/9036/0/9036_idx5_x3351_y1251_class0.png\n",
      "archive/9036/0/9036_idx5_x2051_y2551_class0.png\n"
     ]
    }
   ],
   "source": [
    "for e in all_data[:10]:\n",
    "    print(e)"
   ]
  },
  {
   "cell_type": "code",
   "execution_count": 7,
   "metadata": {},
   "outputs": [],
   "source": [
    "#create empty list\n",
    "cancer=[] \n",
    "no_cancer=[]"
   ]
  },
  {
   "cell_type": "code",
   "execution_count": 8,
   "metadata": {},
   "outputs": [],
   "source": [
    "#create loop\n",
    "for d in all_data:\n",
    "    if d[-5]==\"0\":\n",
    "        no_cancer.append(d)\n",
    "    elif d[-5] =='1':\n",
    "        cancer.append(d)\n",
    "        \n",
    "    "
   ]
  },
  {
   "cell_type": "markdown",
   "metadata": {},
   "source": [
    "Determine the number of picture with nocancer/cancer"
   ]
  },
  {
   "cell_type": "code",
   "execution_count": 9,
   "metadata": {},
   "outputs": [
    {
     "data": {
      "text/plain": [
       "397476"
      ]
     },
     "execution_count": 9,
     "metadata": {},
     "output_type": "execute_result"
    }
   ],
   "source": [
    "\n",
    "len(no_cancer)"
   ]
  },
  {
   "cell_type": "code",
   "execution_count": 10,
   "metadata": {},
   "outputs": [
    {
     "data": {
      "text/plain": [
       "157572"
      ]
     },
     "execution_count": 10,
     "metadata": {},
     "output_type": "execute_result"
    }
   ],
   "source": [
    "len(cancer)"
   ]
  },
  {
   "cell_type": "markdown",
   "metadata": {},
   "source": [
    "Another library to handle image data(Opencv)"
   ]
  },
  {
   "cell_type": "code",
   "execution_count": 11,
   "metadata": {},
   "outputs": [],
   "source": [
    "from matplotlib.image import imread\n",
    "import cv2\n",
    "non_image_cancer=[]\n",
    "image_cancer=[]"
   ]
  },
  {
   "cell_type": "markdown",
   "metadata": {},
   "source": [
    "We use the Opencv imread function to read the images, transform with the IMREAD_COLOR format, and resize the images to our desired width and height; in this case, both are 50.\n",
    "We also used interpolation and INTER_LINEAR for resizing. And we append the label in our list image_nocancer 0 and image_cancer 1."
   ]
  },
  {
   "cell_type": "code",
   "execution_count": 12,
   "metadata": {},
   "outputs": [],
   "source": [
    "#creating loop & label \n",
    "for g in no_cancer:\n",
    "    number_image=cv2.imread(g,cv2.IMREAD_COLOR)\n",
    "\n",
    "    image_size=cv2.resize(number_image,(50,50),interpolation = cv2.INTER_LINEAR)\n",
    "    non_image_cancer.append([image_size,0])\n",
    "    "
   ]
  },
  {
   "cell_type": "code",
   "execution_count": 13,
   "metadata": {},
   "outputs": [],
   "source": [
    "# creating loop &label \n",
    "for g in cancer:\n",
    "    number_image=cv2.imread(g,cv2.IMREAD_COLOR)\n",
    "\n",
    "    image_size=cv2.resize(number_image,(50,50),interpolation = cv2.INTER_LINEAR)\n",
    "    image_cancer.append([image_size,1])"
   ]
  },
  {
   "cell_type": "code",
   "execution_count": 14,
   "metadata": {},
   "outputs": [],
   "source": [
    "# create empty list\n",
    "x=[]\n",
    "y=[]"
   ]
  },
  {
   "cell_type": "markdown",
   "metadata": {},
   "source": [
    "Merging/Concatenate(image_cancer,non_image_cancer)"
   ]
  },
  {
   "cell_type": "code",
   "execution_count": 15,
   "metadata": {},
   "outputs": [
    {
     "name": "stderr",
     "output_type": "stream",
     "text": [
      "<__array_function__ internals>:5: VisibleDeprecationWarning: Creating an ndarray from ragged nested sequences (which is a list-or-tuple of lists-or-tuples-or ndarrays with different lengths or shapes) is deprecated. If you meant to do this, you must specify 'dtype=object' when creating the ndarray\n"
     ]
    }
   ],
   "source": [
    "#transform to array\n",
    "import numpy as np\n",
    "breast_image_array=np.concatenate((image_cancer,non_image_cancer))\n"
   ]
  },
  {
   "cell_type": "markdown",
   "metadata": {},
   "source": [
    " Random shuffle() method takes a sequence, like a list, and reorganize the order of the items."
   ]
  },
  {
   "cell_type": "code",
   "execution_count": 16,
   "metadata": {},
   "outputs": [],
   "source": [
    "#import random\n",
    "import random\n",
    "random.shuffle(breast_image_array)\n",
    "for feature,label in breast_image_array:\n",
    "    x.append(feature)\n",
    "    y.append(label)"
   ]
  },
  {
   "cell_type": "code",
   "execution_count": 31,
   "metadata": {},
   "outputs": [
    {
     "data": {
      "text/plain": [
       "(1110096,)"
      ]
     },
     "execution_count": 31,
     "metadata": {},
     "output_type": "execute_result"
    }
   ],
   "source": [
    "#create array to see shape\n",
    "x=np.array(x)\n",
    "y=np.array(y)\n",
    "x.shape\n",
    "y.shape"
   ]
  },
  {
   "cell_type": "markdown",
   "metadata": {},
   "source": [
    "Training, Validation, and Test Sets"
   ]
  }
 ],
 "metadata": {
  "kernelspec": {
   "display_name": "Python 3",
   "language": "python",
   "name": "python3"
  },
  "language_info": {
   "codemirror_mode": {
    "name": "ipython",
    "version": 3
   },
   "file_extension": ".py",
   "mimetype": "text/x-python",
   "name": "python",
   "nbconvert_exporter": "python",
   "pygments_lexer": "ipython3",
   "version": "3.8.5"
  }
 },
 "nbformat": 4,
 "nbformat_minor": 4
}
