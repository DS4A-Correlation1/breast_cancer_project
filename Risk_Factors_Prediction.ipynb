{
 "cells": [
  {
   "cell_type": "markdown",
   "id": "ef00cc94",
   "metadata": {},
   "source": [
    "Users of the data must reference this publication:\n",
    "Barlow WE, White E, Ballard-Barbash R, Vacek PM, Titus-Ernstoff L, Carney PA, Tice JA, Buist DSM, Geller BM, Rosenberg R, Yankaskas BC, Kerlikowske K. Prospective breast cancer risk prediction model for women undergoing screening mammography. J Natl Cancer Inst. 2006; 98:1204-1214.\n",
    "\n",
    "And acknowledge the funding source of the BCSC with the following reference:\n",
    "\n",
    "\"Data collection and sharing was supported by the National Cancer Institute-funded Breast Cancer Surveillance Consortium (HHSN261201100031C). You can learn more about the BCSC at: http://www.bcsc-research.org/.\""
   ]
  },
  {
   "cell_type": "code",
   "execution_count": 1,
   "id": "9dc7b732",
   "metadata": {},
   "outputs": [
    {
     "ename": "RuntimeError",
     "evalue": "module compiled against API version 0xe but this version of numpy is 0xd",
     "output_type": "error",
     "traceback": [
      "\u001b[0;31m---------------------------------------------------------------------------\u001b[0m",
      "\u001b[0;31mRuntimeError\u001b[0m                              Traceback (most recent call last)",
      "\u001b[0;31mRuntimeError\u001b[0m: module compiled against API version 0xe but this version of numpy is 0xd"
     ]
    }
   ],
   "source": [
    "import pandas as pd"
   ]
  },
  {
   "cell_type": "code",
   "execution_count": null,
   "id": "cbb2beca",
   "metadata": {},
   "outputs": [],
   "source": [
    "data = pd.read_csv('datasets/risk.txt', sep=\" \", header=None)\n",
    "data.columns = [\"menopaus\", \"agegrp\", \"density\", \"race\", \"bmi\", \"agefirst\", \"nrelbc\", \"brstproc\", \"lastmamm\", \"surgmeno\", \"hrt\", \"invasive\", \"cancer\", \"training\", \"count\"]"
   ]
  }
 ],
 "metadata": {
  "kernelspec": {
   "display_name": "Python 3 (ipykernel)",
   "language": "python",
   "name": "python3"
  },
  "language_info": {
   "codemirror_mode": {
    "name": "ipython",
    "version": 3
   },
   "file_extension": ".py",
   "mimetype": "text/x-python",
   "name": "python",
   "nbconvert_exporter": "python",
   "pygments_lexer": "ipython3",
   "version": "3.8.10"
  }
 },
 "nbformat": 4,
 "nbformat_minor": 5
}
