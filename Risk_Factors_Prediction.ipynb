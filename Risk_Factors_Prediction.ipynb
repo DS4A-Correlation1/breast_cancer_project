{
 "cells": [
  {
   "cell_type": "markdown",
   "id": "e3353d3e",
   "metadata": {},
   "source": [
    "Users of the data must reference this publication:\n",
    "Barlow WE, White E, Ballard-Barbash R, Vacek PM, Titus-Ernstoff L, Carney PA, Tice JA, Buist DSM, Geller BM, Rosenberg R, Yankaskas BC, Kerlikowske K. Prospective breast cancer risk prediction model for women undergoing screening mammography. J Natl Cancer Inst. 2006; 98:1204-1214.\n",
    "\n",
    "And acknowledge the funding source of the BCSC with the following reference:\n",
    "\n",
    "\"Data collection and sharing was supported by the National Cancer Institute-funded Breast Cancer Surveillance Consortium (HHSN261201100031C). You can learn more about the BCSC at: http://www.bcsc-research.org/.\"\n",
    "\n",
    "\n",
    "Data Documentation - https://www.bcsc-research.org/data/rfdataset/dataset"
   ]
  },
  {
   "cell_type": "code",
   "execution_count": 37,
   "id": "08a94b14",
   "metadata": {},
   "outputs": [],
   "source": [
    "import numpy as np\n",
    "import pandas as pd"
   ]
  },
  {
   "cell_type": "code",
   "execution_count": 38,
   "id": "99612bbe",
   "metadata": {},
   "outputs": [],
   "source": [
    "data = pd.read_csv('datasets/risk_dataset_2.csv', header=None )\n",
    "data.columns = ['menopaus', 'age_grp', 'density', 'race', 'hispanic', 'bmi', 'age_first', 'nrelbc', 'brstproc', \n",
    "              'lastmamm', 'surgmeno', 'hrt', 'invasive', 'cancer', 'training', 'count']"
   ]
  },
  {
   "cell_type": "code",
   "execution_count": 39,
   "id": "cddaf8c6",
   "metadata": {},
   "outputs": [
    {
     "data": {
      "text/plain": [
       "(181903, 16)"
      ]
     },
     "execution_count": 39,
     "metadata": {},
     "output_type": "execute_result"
    }
   ],
   "source": [
    "data.shape"
   ]
  },
  {
   "cell_type": "code",
   "execution_count": 40,
   "id": "5ff1e52e",
   "metadata": {},
   "outputs": [
    {
     "data": {
      "text/html": [
       "<div>\n",
       "<style scoped>\n",
       "    .dataframe tbody tr th:only-of-type {\n",
       "        vertical-align: middle;\n",
       "    }\n",
       "\n",
       "    .dataframe tbody tr th {\n",
       "        vertical-align: top;\n",
       "    }\n",
       "\n",
       "    .dataframe thead th {\n",
       "        text-align: right;\n",
       "    }\n",
       "</style>\n",
       "<table border=\"1\" class=\"dataframe\">\n",
       "  <thead>\n",
       "    <tr style=\"text-align: right;\">\n",
       "      <th></th>\n",
       "      <th>menopaus</th>\n",
       "      <th>age_grp</th>\n",
       "      <th>density</th>\n",
       "      <th>race</th>\n",
       "      <th>hispanic</th>\n",
       "      <th>bmi</th>\n",
       "      <th>age_first</th>\n",
       "      <th>nrelbc</th>\n",
       "      <th>brstproc</th>\n",
       "      <th>lastmamm</th>\n",
       "      <th>surgmeno</th>\n",
       "      <th>hrt</th>\n",
       "      <th>invasive</th>\n",
       "      <th>cancer</th>\n",
       "      <th>training</th>\n",
       "      <th>count</th>\n",
       "    </tr>\n",
       "  </thead>\n",
       "  <tbody>\n",
       "    <tr>\n",
       "      <th>0</th>\n",
       "      <td>0</td>\n",
       "      <td>1</td>\n",
       "      <td>1</td>\n",
       "      <td>1</td>\n",
       "      <td>0</td>\n",
       "      <td>1</td>\n",
       "      <td>0</td>\n",
       "      <td>0</td>\n",
       "      <td>0</td>\n",
       "      <td>0</td>\n",
       "      <td>9</td>\n",
       "      <td>9</td>\n",
       "      <td>0</td>\n",
       "      <td>0</td>\n",
       "      <td>1</td>\n",
       "      <td>3</td>\n",
       "    </tr>\n",
       "    <tr>\n",
       "      <th>1</th>\n",
       "      <td>0</td>\n",
       "      <td>1</td>\n",
       "      <td>1</td>\n",
       "      <td>1</td>\n",
       "      <td>0</td>\n",
       "      <td>1</td>\n",
       "      <td>0</td>\n",
       "      <td>0</td>\n",
       "      <td>0</td>\n",
       "      <td>9</td>\n",
       "      <td>9</td>\n",
       "      <td>9</td>\n",
       "      <td>0</td>\n",
       "      <td>0</td>\n",
       "      <td>0</td>\n",
       "      <td>2</td>\n",
       "    </tr>\n",
       "    <tr>\n",
       "      <th>2</th>\n",
       "      <td>0</td>\n",
       "      <td>1</td>\n",
       "      <td>1</td>\n",
       "      <td>1</td>\n",
       "      <td>0</td>\n",
       "      <td>1</td>\n",
       "      <td>0</td>\n",
       "      <td>0</td>\n",
       "      <td>0</td>\n",
       "      <td>9</td>\n",
       "      <td>9</td>\n",
       "      <td>9</td>\n",
       "      <td>0</td>\n",
       "      <td>0</td>\n",
       "      <td>1</td>\n",
       "      <td>3</td>\n",
       "    </tr>\n",
       "    <tr>\n",
       "      <th>3</th>\n",
       "      <td>0</td>\n",
       "      <td>1</td>\n",
       "      <td>1</td>\n",
       "      <td>1</td>\n",
       "      <td>0</td>\n",
       "      <td>1</td>\n",
       "      <td>1</td>\n",
       "      <td>0</td>\n",
       "      <td>0</td>\n",
       "      <td>0</td>\n",
       "      <td>9</td>\n",
       "      <td>9</td>\n",
       "      <td>0</td>\n",
       "      <td>0</td>\n",
       "      <td>1</td>\n",
       "      <td>1</td>\n",
       "    </tr>\n",
       "    <tr>\n",
       "      <th>4</th>\n",
       "      <td>0</td>\n",
       "      <td>1</td>\n",
       "      <td>1</td>\n",
       "      <td>1</td>\n",
       "      <td>0</td>\n",
       "      <td>1</td>\n",
       "      <td>1</td>\n",
       "      <td>0</td>\n",
       "      <td>1</td>\n",
       "      <td>9</td>\n",
       "      <td>9</td>\n",
       "      <td>9</td>\n",
       "      <td>0</td>\n",
       "      <td>0</td>\n",
       "      <td>1</td>\n",
       "      <td>1</td>\n",
       "    </tr>\n",
       "    <tr>\n",
       "      <th>...</th>\n",
       "      <td>...</td>\n",
       "      <td>...</td>\n",
       "      <td>...</td>\n",
       "      <td>...</td>\n",
       "      <td>...</td>\n",
       "      <td>...</td>\n",
       "      <td>...</td>\n",
       "      <td>...</td>\n",
       "      <td>...</td>\n",
       "      <td>...</td>\n",
       "      <td>...</td>\n",
       "      <td>...</td>\n",
       "      <td>...</td>\n",
       "      <td>...</td>\n",
       "      <td>...</td>\n",
       "      <td>...</td>\n",
       "    </tr>\n",
       "    <tr>\n",
       "      <th>181898</th>\n",
       "      <td>9</td>\n",
       "      <td>4</td>\n",
       "      <td>9</td>\n",
       "      <td>9</td>\n",
       "      <td>9</td>\n",
       "      <td>9</td>\n",
       "      <td>9</td>\n",
       "      <td>9</td>\n",
       "      <td>9</td>\n",
       "      <td>1</td>\n",
       "      <td>9</td>\n",
       "      <td>9</td>\n",
       "      <td>0</td>\n",
       "      <td>0</td>\n",
       "      <td>1</td>\n",
       "      <td>31</td>\n",
       "    </tr>\n",
       "    <tr>\n",
       "      <th>181899</th>\n",
       "      <td>9</td>\n",
       "      <td>4</td>\n",
       "      <td>9</td>\n",
       "      <td>9</td>\n",
       "      <td>9</td>\n",
       "      <td>9</td>\n",
       "      <td>9</td>\n",
       "      <td>9</td>\n",
       "      <td>9</td>\n",
       "      <td>9</td>\n",
       "      <td>9</td>\n",
       "      <td>9</td>\n",
       "      <td>0</td>\n",
       "      <td>0</td>\n",
       "      <td>0</td>\n",
       "      <td>154</td>\n",
       "    </tr>\n",
       "    <tr>\n",
       "      <th>181900</th>\n",
       "      <td>9</td>\n",
       "      <td>4</td>\n",
       "      <td>9</td>\n",
       "      <td>9</td>\n",
       "      <td>9</td>\n",
       "      <td>9</td>\n",
       "      <td>9</td>\n",
       "      <td>9</td>\n",
       "      <td>9</td>\n",
       "      <td>9</td>\n",
       "      <td>9</td>\n",
       "      <td>9</td>\n",
       "      <td>0</td>\n",
       "      <td>0</td>\n",
       "      <td>1</td>\n",
       "      <td>493</td>\n",
       "    </tr>\n",
       "    <tr>\n",
       "      <th>181901</th>\n",
       "      <td>9</td>\n",
       "      <td>4</td>\n",
       "      <td>9</td>\n",
       "      <td>9</td>\n",
       "      <td>9</td>\n",
       "      <td>9</td>\n",
       "      <td>9</td>\n",
       "      <td>9</td>\n",
       "      <td>9</td>\n",
       "      <td>9</td>\n",
       "      <td>9</td>\n",
       "      <td>9</td>\n",
       "      <td>1</td>\n",
       "      <td>1</td>\n",
       "      <td>0</td>\n",
       "      <td>1</td>\n",
       "    </tr>\n",
       "    <tr>\n",
       "      <th>181902</th>\n",
       "      <td>9</td>\n",
       "      <td>4</td>\n",
       "      <td>9</td>\n",
       "      <td>9</td>\n",
       "      <td>9</td>\n",
       "      <td>9</td>\n",
       "      <td>9</td>\n",
       "      <td>9</td>\n",
       "      <td>9</td>\n",
       "      <td>9</td>\n",
       "      <td>9</td>\n",
       "      <td>9</td>\n",
       "      <td>1</td>\n",
       "      <td>1</td>\n",
       "      <td>1</td>\n",
       "      <td>3</td>\n",
       "    </tr>\n",
       "  </tbody>\n",
       "</table>\n",
       "<p>181903 rows × 16 columns</p>\n",
       "</div>"
      ],
      "text/plain": [
       "        menopaus  age_grp  density  race  hispanic  bmi  age_first  nrelbc  \\\n",
       "0              0        1        1     1         0    1          0       0   \n",
       "1              0        1        1     1         0    1          0       0   \n",
       "2              0        1        1     1         0    1          0       0   \n",
       "3              0        1        1     1         0    1          1       0   \n",
       "4              0        1        1     1         0    1          1       0   \n",
       "...          ...      ...      ...   ...       ...  ...        ...     ...   \n",
       "181898         9        4        9     9         9    9          9       9   \n",
       "181899         9        4        9     9         9    9          9       9   \n",
       "181900         9        4        9     9         9    9          9       9   \n",
       "181901         9        4        9     9         9    9          9       9   \n",
       "181902         9        4        9     9         9    9          9       9   \n",
       "\n",
       "        brstproc  lastmamm  surgmeno  hrt  invasive  cancer  training  count  \n",
       "0              0         0         9    9         0       0         1      3  \n",
       "1              0         9         9    9         0       0         0      2  \n",
       "2              0         9         9    9         0       0         1      3  \n",
       "3              0         0         9    9         0       0         1      1  \n",
       "4              1         9         9    9         0       0         1      1  \n",
       "...          ...       ...       ...  ...       ...     ...       ...    ...  \n",
       "181898         9         1         9    9         0       0         1     31  \n",
       "181899         9         9         9    9         0       0         0    154  \n",
       "181900         9         9         9    9         0       0         1    493  \n",
       "181901         9         9         9    9         1       1         0      1  \n",
       "181902         9         9         9    9         1       1         1      3  \n",
       "\n",
       "[181903 rows x 16 columns]"
      ]
     },
     "execution_count": 40,
     "metadata": {},
     "output_type": "execute_result"
    }
   ],
   "source": [
    "data"
   ]
  },
  {
   "cell_type": "code",
   "execution_count": 41,
   "id": "966363e4",
   "metadata": {},
   "outputs": [
    {
     "data": {
      "text/html": [
       "<div>\n",
       "<style scoped>\n",
       "    .dataframe tbody tr th:only-of-type {\n",
       "        vertical-align: middle;\n",
       "    }\n",
       "\n",
       "    .dataframe tbody tr th {\n",
       "        vertical-align: top;\n",
       "    }\n",
       "\n",
       "    .dataframe thead th {\n",
       "        text-align: right;\n",
       "    }\n",
       "</style>\n",
       "<table border=\"1\" class=\"dataframe\">\n",
       "  <thead>\n",
       "    <tr style=\"text-align: right;\">\n",
       "      <th></th>\n",
       "      <th>menopaus</th>\n",
       "      <th>age_grp</th>\n",
       "      <th>density</th>\n",
       "      <th>race</th>\n",
       "      <th>hispanic</th>\n",
       "      <th>bmi</th>\n",
       "      <th>age_first</th>\n",
       "      <th>nrelbc</th>\n",
       "      <th>brstproc</th>\n",
       "      <th>lastmamm</th>\n",
       "      <th>surgmeno</th>\n",
       "      <th>hrt</th>\n",
       "      <th>invasive</th>\n",
       "      <th>cancer</th>\n",
       "      <th>training</th>\n",
       "      <th>count</th>\n",
       "    </tr>\n",
       "  </thead>\n",
       "  <tbody>\n",
       "    <tr>\n",
       "      <th>count</th>\n",
       "      <td>181903.000000</td>\n",
       "      <td>181903.000000</td>\n",
       "      <td>181903.000000</td>\n",
       "      <td>181903.000000</td>\n",
       "      <td>181903.000000</td>\n",
       "      <td>181903.000000</td>\n",
       "      <td>181903.000000</td>\n",
       "      <td>181903.000000</td>\n",
       "      <td>181903.000000</td>\n",
       "      <td>181903.000000</td>\n",
       "      <td>181903.000000</td>\n",
       "      <td>181903.000000</td>\n",
       "      <td>181903.000000</td>\n",
       "      <td>181903.000000</td>\n",
       "      <td>181903.000000</td>\n",
       "      <td>181903.000000</td>\n",
       "    </tr>\n",
       "    <tr>\n",
       "      <th>mean</th>\n",
       "      <td>1.344150</td>\n",
       "      <td>5.329995</td>\n",
       "      <td>4.100609</td>\n",
       "      <td>3.125941</td>\n",
       "      <td>2.780828</td>\n",
       "      <td>4.862559</td>\n",
       "      <td>3.547550</td>\n",
       "      <td>1.497826</td>\n",
       "      <td>1.356135</td>\n",
       "      <td>3.509046</td>\n",
       "      <td>4.351127</td>\n",
       "      <td>3.478662</td>\n",
       "      <td>0.027003</td>\n",
       "      <td>0.034491</td>\n",
       "      <td>0.655806</td>\n",
       "      <td>5.539546</td>\n",
       "    </tr>\n",
       "    <tr>\n",
       "      <th>std</th>\n",
       "      <td>2.023965</td>\n",
       "      <td>2.424028</td>\n",
       "      <td>2.962819</td>\n",
       "      <td>3.151730</td>\n",
       "      <td>4.021810</td>\n",
       "      <td>3.496583</td>\n",
       "      <td>4.056065</td>\n",
       "      <td>3.027830</td>\n",
       "      <td>2.865927</td>\n",
       "      <td>4.341406</td>\n",
       "      <td>4.299688</td>\n",
       "      <td>4.111375</td>\n",
       "      <td>0.162094</td>\n",
       "      <td>0.182487</td>\n",
       "      <td>0.475106</td>\n",
       "      <td>28.144444</td>\n",
       "    </tr>\n",
       "    <tr>\n",
       "      <th>min</th>\n",
       "      <td>0.000000</td>\n",
       "      <td>1.000000</td>\n",
       "      <td>1.000000</td>\n",
       "      <td>1.000000</td>\n",
       "      <td>0.000000</td>\n",
       "      <td>1.000000</td>\n",
       "      <td>0.000000</td>\n",
       "      <td>0.000000</td>\n",
       "      <td>0.000000</td>\n",
       "      <td>0.000000</td>\n",
       "      <td>0.000000</td>\n",
       "      <td>0.000000</td>\n",
       "      <td>0.000000</td>\n",
       "      <td>0.000000</td>\n",
       "      <td>0.000000</td>\n",
       "      <td>1.000000</td>\n",
       "    </tr>\n",
       "    <tr>\n",
       "      <th>25%</th>\n",
       "      <td>1.000000</td>\n",
       "      <td>3.000000</td>\n",
       "      <td>2.000000</td>\n",
       "      <td>1.000000</td>\n",
       "      <td>0.000000</td>\n",
       "      <td>2.000000</td>\n",
       "      <td>0.000000</td>\n",
       "      <td>0.000000</td>\n",
       "      <td>0.000000</td>\n",
       "      <td>0.000000</td>\n",
       "      <td>0.000000</td>\n",
       "      <td>0.000000</td>\n",
       "      <td>0.000000</td>\n",
       "      <td>0.000000</td>\n",
       "      <td>0.000000</td>\n",
       "      <td>1.000000</td>\n",
       "    </tr>\n",
       "    <tr>\n",
       "      <th>50%</th>\n",
       "      <td>1.000000</td>\n",
       "      <td>5.000000</td>\n",
       "      <td>3.000000</td>\n",
       "      <td>1.000000</td>\n",
       "      <td>0.000000</td>\n",
       "      <td>3.000000</td>\n",
       "      <td>1.000000</td>\n",
       "      <td>0.000000</td>\n",
       "      <td>0.000000</td>\n",
       "      <td>0.000000</td>\n",
       "      <td>1.000000</td>\n",
       "      <td>1.000000</td>\n",
       "      <td>0.000000</td>\n",
       "      <td>0.000000</td>\n",
       "      <td>1.000000</td>\n",
       "      <td>1.000000</td>\n",
       "    </tr>\n",
       "    <tr>\n",
       "      <th>75%</th>\n",
       "      <td>1.000000</td>\n",
       "      <td>7.000000</td>\n",
       "      <td>9.000000</td>\n",
       "      <td>4.000000</td>\n",
       "      <td>9.000000</td>\n",
       "      <td>9.000000</td>\n",
       "      <td>9.000000</td>\n",
       "      <td>1.000000</td>\n",
       "      <td>1.000000</td>\n",
       "      <td>9.000000</td>\n",
       "      <td>9.000000</td>\n",
       "      <td>9.000000</td>\n",
       "      <td>0.000000</td>\n",
       "      <td>0.000000</td>\n",
       "      <td>1.000000</td>\n",
       "      <td>3.000000</td>\n",
       "    </tr>\n",
       "    <tr>\n",
       "      <th>max</th>\n",
       "      <td>9.000000</td>\n",
       "      <td>10.000000</td>\n",
       "      <td>9.000000</td>\n",
       "      <td>9.000000</td>\n",
       "      <td>9.000000</td>\n",
       "      <td>9.000000</td>\n",
       "      <td>9.000000</td>\n",
       "      <td>9.000000</td>\n",
       "      <td>9.000000</td>\n",
       "      <td>9.000000</td>\n",
       "      <td>9.000000</td>\n",
       "      <td>9.000000</td>\n",
       "      <td>1.000000</td>\n",
       "      <td>1.000000</td>\n",
       "      <td>1.000000</td>\n",
       "      <td>3867.000000</td>\n",
       "    </tr>\n",
       "  </tbody>\n",
       "</table>\n",
       "</div>"
      ],
      "text/plain": [
       "            menopaus        age_grp        density           race  \\\n",
       "count  181903.000000  181903.000000  181903.000000  181903.000000   \n",
       "mean        1.344150       5.329995       4.100609       3.125941   \n",
       "std         2.023965       2.424028       2.962819       3.151730   \n",
       "min         0.000000       1.000000       1.000000       1.000000   \n",
       "25%         1.000000       3.000000       2.000000       1.000000   \n",
       "50%         1.000000       5.000000       3.000000       1.000000   \n",
       "75%         1.000000       7.000000       9.000000       4.000000   \n",
       "max         9.000000      10.000000       9.000000       9.000000   \n",
       "\n",
       "            hispanic            bmi      age_first         nrelbc  \\\n",
       "count  181903.000000  181903.000000  181903.000000  181903.000000   \n",
       "mean        2.780828       4.862559       3.547550       1.497826   \n",
       "std         4.021810       3.496583       4.056065       3.027830   \n",
       "min         0.000000       1.000000       0.000000       0.000000   \n",
       "25%         0.000000       2.000000       0.000000       0.000000   \n",
       "50%         0.000000       3.000000       1.000000       0.000000   \n",
       "75%         9.000000       9.000000       9.000000       1.000000   \n",
       "max         9.000000       9.000000       9.000000       9.000000   \n",
       "\n",
       "            brstproc       lastmamm       surgmeno            hrt  \\\n",
       "count  181903.000000  181903.000000  181903.000000  181903.000000   \n",
       "mean        1.356135       3.509046       4.351127       3.478662   \n",
       "std         2.865927       4.341406       4.299688       4.111375   \n",
       "min         0.000000       0.000000       0.000000       0.000000   \n",
       "25%         0.000000       0.000000       0.000000       0.000000   \n",
       "50%         0.000000       0.000000       1.000000       1.000000   \n",
       "75%         1.000000       9.000000       9.000000       9.000000   \n",
       "max         9.000000       9.000000       9.000000       9.000000   \n",
       "\n",
       "            invasive         cancer       training          count  \n",
       "count  181903.000000  181903.000000  181903.000000  181903.000000  \n",
       "mean        0.027003       0.034491       0.655806       5.539546  \n",
       "std         0.162094       0.182487       0.475106      28.144444  \n",
       "min         0.000000       0.000000       0.000000       1.000000  \n",
       "25%         0.000000       0.000000       0.000000       1.000000  \n",
       "50%         0.000000       0.000000       1.000000       1.000000  \n",
       "75%         0.000000       0.000000       1.000000       3.000000  \n",
       "max         1.000000       1.000000       1.000000    3867.000000  "
      ]
     },
     "execution_count": 41,
     "metadata": {},
     "output_type": "execute_result"
    }
   ],
   "source": [
    "data.describe()"
   ]
  },
  {
   "cell_type": "code",
   "execution_count": 42,
   "id": "9292770b",
   "metadata": {},
   "outputs": [
    {
     "data": {
      "text/html": [
       "<div>\n",
       "<style scoped>\n",
       "    .dataframe tbody tr th:only-of-type {\n",
       "        vertical-align: middle;\n",
       "    }\n",
       "\n",
       "    .dataframe tbody tr th {\n",
       "        vertical-align: top;\n",
       "    }\n",
       "\n",
       "    .dataframe thead th {\n",
       "        text-align: right;\n",
       "    }\n",
       "</style>\n",
       "<table border=\"1\" class=\"dataframe\">\n",
       "  <thead>\n",
       "    <tr style=\"text-align: right;\">\n",
       "      <th></th>\n",
       "      <th>menopaus</th>\n",
       "      <th>age_grp</th>\n",
       "      <th>density</th>\n",
       "      <th>race</th>\n",
       "      <th>hispanic</th>\n",
       "      <th>bmi</th>\n",
       "      <th>age_first</th>\n",
       "      <th>nrelbc</th>\n",
       "      <th>brstproc</th>\n",
       "      <th>lastmamm</th>\n",
       "      <th>surgmeno</th>\n",
       "      <th>hrt</th>\n",
       "      <th>invasive</th>\n",
       "      <th>cancer</th>\n",
       "      <th>training</th>\n",
       "      <th>count</th>\n",
       "    </tr>\n",
       "  </thead>\n",
       "  <tbody>\n",
       "    <tr>\n",
       "      <th>0.90</th>\n",
       "      <td>1.0</td>\n",
       "      <td>9.0</td>\n",
       "      <td>9.0</td>\n",
       "      <td>9.0</td>\n",
       "      <td>9.0</td>\n",
       "      <td>9.0</td>\n",
       "      <td>9.0</td>\n",
       "      <td>9.0</td>\n",
       "      <td>9.0</td>\n",
       "      <td>9.0</td>\n",
       "      <td>9.0</td>\n",
       "      <td>9.0</td>\n",
       "      <td>0.0</td>\n",
       "      <td>0.0</td>\n",
       "      <td>1.0</td>\n",
       "      <td>8.00</td>\n",
       "    </tr>\n",
       "    <tr>\n",
       "      <th>0.95</th>\n",
       "      <td>9.0</td>\n",
       "      <td>10.0</td>\n",
       "      <td>9.0</td>\n",
       "      <td>9.0</td>\n",
       "      <td>9.0</td>\n",
       "      <td>9.0</td>\n",
       "      <td>9.0</td>\n",
       "      <td>9.0</td>\n",
       "      <td>9.0</td>\n",
       "      <td>9.0</td>\n",
       "      <td>9.0</td>\n",
       "      <td>9.0</td>\n",
       "      <td>0.0</td>\n",
       "      <td>0.0</td>\n",
       "      <td>1.0</td>\n",
       "      <td>18.00</td>\n",
       "    </tr>\n",
       "    <tr>\n",
       "      <th>0.99</th>\n",
       "      <td>9.0</td>\n",
       "      <td>10.0</td>\n",
       "      <td>9.0</td>\n",
       "      <td>9.0</td>\n",
       "      <td>9.0</td>\n",
       "      <td>9.0</td>\n",
       "      <td>9.0</td>\n",
       "      <td>9.0</td>\n",
       "      <td>9.0</td>\n",
       "      <td>9.0</td>\n",
       "      <td>9.0</td>\n",
       "      <td>9.0</td>\n",
       "      <td>1.0</td>\n",
       "      <td>1.0</td>\n",
       "      <td>1.0</td>\n",
       "      <td>75.98</td>\n",
       "    </tr>\n",
       "  </tbody>\n",
       "</table>\n",
       "</div>"
      ],
      "text/plain": [
       "      menopaus  age_grp  density  race  hispanic  bmi  age_first  nrelbc  \\\n",
       "0.90       1.0      9.0      9.0   9.0       9.0  9.0        9.0     9.0   \n",
       "0.95       9.0     10.0      9.0   9.0       9.0  9.0        9.0     9.0   \n",
       "0.99       9.0     10.0      9.0   9.0       9.0  9.0        9.0     9.0   \n",
       "\n",
       "      brstproc  lastmamm  surgmeno  hrt  invasive  cancer  training  count  \n",
       "0.90       9.0       9.0       9.0  9.0       0.0     0.0       1.0   8.00  \n",
       "0.95       9.0       9.0       9.0  9.0       0.0     0.0       1.0  18.00  \n",
       "0.99       9.0       9.0       9.0  9.0       1.0     1.0       1.0  75.98  "
      ]
     },
     "execution_count": 42,
     "metadata": {},
     "output_type": "execute_result"
    }
   ],
   "source": [
    "data.quantile([0.9,0.95,0.99])"
   ]
  },
  {
   "cell_type": "code",
   "execution_count": 43,
   "id": "d0ca069d",
   "metadata": {},
   "outputs": [],
   "source": [
    "#data with training of 0 should be in test and training of 1 in train then delete train column\n",
    "#cancer column is target, re-order columns?"
   ]
  },
  {
   "cell_type": "code",
   "execution_count": 44,
   "id": "750c179a",
   "metadata": {},
   "outputs": [],
   "source": [
    "#see me for ideas - https://thesai.org/Downloads/Volume11No8/Paper_8-Predicting_Breast_Cancer_via_Supervised_Machine.pdf"
   ]
  },
  {
   "cell_type": "code",
   "execution_count": 45,
   "id": "2dd95ea9",
   "metadata": {},
   "outputs": [],
   "source": [
    "import seaborn as sns\n"
   ]
  },
  {
   "cell_type": "code",
   "execution_count": 46,
   "id": "e94516a3",
   "metadata": {
    "scrolled": true
   },
   "outputs": [
    {
     "data": {
      "image/png": "[encoded data removed]",
      "text/plain": [
       "<Figure size 432x288 with 1 Axes>"
      ]
     },
     "metadata": {
      "needs_background": "light"
     },
     "output_type": "display_data"
    },
    {
     "data": {
      "image/png": "[encoded data removed]",
      "text/plain": [
       "<Figure size 432x288 with 1 Axes>"
      ]
     },
     "metadata": {
      "needs_background": "light"
     },
     "output_type": "display_data"
    },
    {
     "data": {
      "image/png": "[encoded data removed]",
      "text/plain": [
       "<Figure size 432x288 with 1 Axes>"
      ]
     },
     "metadata": {
      "needs_background": "light"
     },
     "output_type": "display_data"
    },
    {
     "data": {
      "image/png": "[encoded data removed]",
      "text/plain": [
       "<Figure size 432x288 with 1 Axes>"
      ]
     },
     "metadata": {
      "needs_background": "light"
     },
     "output_type": "display_data"
    },
    {
     "data": {
      "image/png": "[encoded data removed]",
      "text/plain": [
       "<Figure size 432x288 with 1 Axes>"
      ]
     },
     "metadata": {
      "needs_background": "light"
     },
     "output_type": "display_data"
    },
    {
     "data": {
      "image/png": "[encoded data removed]",
      "text/plain": [
       "<Figure size 432x288 with 1 Axes>"
      ]
     },
     "metadata": {
      "needs_background": "light"
     },
     "output_type": "display_data"
    },
    {
     "data": {
      "image/png": "[encoded data removed]",
      "text/plain": [
       "<Figure size 432x288 with 1 Axes>"
      ]
     },
     "metadata": {
      "needs_background": "light"
     },
     "output_type": "display_data"
    },
    {
     "data": {
      "image/png": "[encoded data removed]",
      "text/plain": [
       "<Figure size 432x288 with 1 Axes>"
      ]
     },
     "metadata": {
      "needs_background": "light"
     },
     "output_type": "display_data"
    },
    {
     "data": {
      "image/png": "[encoded data removed]",
      "text/plain": [
       "<Figure size 432x288 with 1 Axes>"
      ]
     },
     "metadata": {
      "needs_background": "light"
     },
     "output_type": "display_data"
    },
    {
     "data": {
      "image/png": "[encoded data removed]",
      "text/plain": [
       "<Figure size 432x288 with 1 Axes>"
      ]
     },
     "metadata": {
      "needs_background": "light"
     },
     "output_type": "display_data"
    },
    {
     "data": {
      "image/png": "[encoded data removed]",
      "text/plain": [
       "<Figure size 432x288 with 1 Axes>"
      ]
     },
     "metadata": {
      "needs_background": "light"
     },
     "output_type": "display_data"
    },
    {
     "data": {
      "image/png": "[encoded data removed]",
      "text/plain": [
       "<Figure size 432x288 with 1 Axes>"
      ]
     },
     "metadata": {
      "needs_background": "light"
     },
     "output_type": "display_data"
    },
    {
     "data": {
      "image/png": "[encoded data removed]",
      "text/plain": [
       "<Figure size 432x288 with 1 Axes>"
      ]
     },
     "metadata": {
      "needs_background": "light"
     },
     "output_type": "display_data"
    },
    {
     "data": {
      "image/png": "[encoded data removed]",
      "text/plain": [
       "<Figure size 432x288 with 1 Axes>"
      ]
     },
     "metadata": {
      "needs_background": "light"
     },
     "output_type": "display_data"
    },
    {
     "data": {
      "text/plain": [
       "<Figure size 432x288 with 0 Axes>"
      ]
     },
     "metadata": {},
     "output_type": "display_data"
    }
   ],
   "source": [
    "import matplotlib.pyplot     as plt\n",
    "for col in ['menopaus', 'age_grp', 'density', 'race', 'hispanic', 'bmi', 'age_first', 'nrelbc', 'brstproc', \n",
    "              'lastmamm', 'surgmeno', 'hrt', 'invasive', 'count']:\n",
    "    sns.countplot(data = data, x = col, hue ='cancer')\n",
    "    plt.title('Countplot of {0}'.format(col))\n",
    "    plt.figure()"
   ]
  },
  {
   "cell_type": "code",
   "execution_count": 47,
   "id": "8f939755",
   "metadata": {},
   "outputs": [
    {
     "data": {
      "image/png": "[encoded data removed]",
      "text/plain": [
       "<Figure size 432x288 with 1 Axes>"
      ]
     },
     "metadata": {
      "needs_background": "light"
     },
     "output_type": "display_data"
    },
    {
     "data": {
      "image/png": "[encoded data removed]",
      "text/plain": [
       "<Figure size 432x288 with 1 Axes>"
      ]
     },
     "metadata": {
      "needs_background": "light"
     },
     "output_type": "display_data"
    },
    {
     "data": {
      "image/png": "[encoded data removed]",
      "text/plain": [
       "<Figure size 432x288 with 1 Axes>"
      ]
     },
     "metadata": {
      "needs_background": "light"
     },
     "output_type": "display_data"
    },
    {
     "data": {
      "image/png": "[encoded data removed]",
      "text/plain": [
       "<Figure size 432x288 with 1 Axes>"
      ]
     },
     "metadata": {
      "needs_background": "light"
     },
     "output_type": "display_data"
    },
    {
     "data": {
      "image/png": "[encoded data removed]",
      "text/plain": [
       "<Figure size 432x288 with 1 Axes>"
      ]
     },
     "metadata": {
      "needs_background": "light"
     },
     "output_type": "display_data"
    },
    {
     "data": {
      "image/png": "[encoded data removed]",
      "text/plain": [
       "<Figure size 432x288 with 1 Axes>"
      ]
     },
     "metadata": {
      "needs_background": "light"
     },
     "output_type": "display_data"
    },
    {
     "data": {
      "image/png": "[encoded data removed]",
      "text/plain": [
       "<Figure size 432x288 with 1 Axes>"
      ]
     },
     "metadata": {
      "needs_background": "light"
     },
     "output_type": "display_data"
    },
    {
     "data": {
      "image/png": "[encoded data removed]",
      "text/plain": [
       "<Figure size 432x288 with 1 Axes>"
      ]
     },
     "metadata": {
      "needs_background": "light"
     },
     "output_type": "display_data"
    },
    {
     "data": {
      "image/png": "[encoded data removed]",
      "text/plain": [
       "<Figure size 432x288 with 1 Axes>"
      ]
     },
     "metadata": {
      "needs_background": "light"
     },
     "output_type": "display_data"
    },
    {
     "data": {
      "image/png": "[encoded data removed]",
      "text/plain": [
       "<Figure size 432x288 with 1 Axes>"
      ]
     },
     "metadata": {
      "needs_background": "light"
     },
     "output_type": "display_data"
    },
    {
     "data": {
      "image/png": "[encoded data removed]",
      "text/plain": [
       "<Figure size 432x288 with 1 Axes>"
      ]
     },
     "metadata": {
      "needs_background": "light"
     },
     "output_type": "display_data"
    },
    {
     "data": {
      "image/png": "[encoded data removed]",
      "text/plain": [
       "<Figure size 432x288 with 1 Axes>"
      ]
     },
     "metadata": {
      "needs_background": "light"
     },
     "output_type": "display_data"
    },
    {
     "data": {
      "image/png": "[encoded data removed]",
      "text/plain": [
       "<Figure size 432x288 with 1 Axes>"
      ]
     },
     "metadata": {
      "needs_background": "light"
     },
     "output_type": "display_data"
    },
    {
     "data": {
      "image/png": "[encoded data removed]",
      "text/plain": [
       "<Figure size 432x288 with 1 Axes>"
      ]
     },
     "metadata": {
      "needs_background": "light"
     },
     "output_type": "display_data"
    },
    {
     "data": {
      "text/plain": [
       "<Figure size 432x288 with 0 Axes>"
      ]
     },
     "metadata": {},
     "output_type": "display_data"
    }
   ],
   "source": [
    "# Plotting histogram to view data distribution\n",
    "for col in ['menopaus', 'age_grp', 'density', 'race', 'hispanic', 'bmi', 'age_first', 'nrelbc', 'brstproc', \n",
    "              'lastmamm', 'surgmeno', 'hrt', 'invasive', 'count']:\n",
    "    sns.histplot(data = data, x = col, bins = 20)\n",
    "    plt.title('Histogram of {0}'.format(col))\n",
    "    plt.figure()\n"
   ]
  },
  {
   "cell_type": "code",
   "execution_count": 48,
   "id": "0837c36c",
   "metadata": {},
   "outputs": [],
   "source": [
    "#Do Cramer's V\n",
    "#Do Mode"
   ]
  },
  {
   "cell_type": "code",
   "execution_count": 49,
   "id": "e1587582",
   "metadata": {},
   "outputs": [],
   "source": [
    "# defining function for plotting correlation heatmap\n",
    "def plot_heatmap(correlation, title):\n",
    "    plt.figure(figsize=(15, 8))\n",
    "    ax = sns.heatmap(correlation,annot=True,fmt='.3f',linewidths=0.3,annot_kws={\"size\": 18})\n",
    "    plt.xticks(fontsize=12) \n",
    "    plt.yticks(fontsize=12) \n",
    "    plt.title(title, fontsize=20)\n",
    "    ax.figure.axes[-1].tick_params(labelsize=18) # To increase fontsize of colorbar ticks\n",
    "    #lim = len(correlation.columns)\n",
    "    #ax.set_ylim([0,lim]) # to make the map display correctly without trimming the edges\n",
    "    plt.show()\n",
    "    return"
   ]
  },
  {
   "cell_type": "code",
   "execution_count": 50,
   "id": "9d759287",
   "metadata": {},
   "outputs": [
    {
     "data": {
      "text/plain": [
       "\"data_first_half = data[['menopaus', 'age_grp', 'density', 'race', 'hispanic', 'bmi', 'age_first', 'cancer']]\\ndata_second_half = data[['nrelbc', 'brstproc', 'lastmamm', 'surgmeno', 'hrt', 'invasive', 'cancer', 'count']]\\nplot_heatmap(data_first_half.corr(), 'Correlation between features')\\nplot_heatmap(data_second_half.corr(), 'Correlation between features')\""
      ]
     },
     "execution_count": 50,
     "metadata": {},
     "output_type": "execute_result"
    }
   ],
   "source": [
    "\"\"\"data_first_half = data[['menopaus', 'age_grp', 'density', 'race', 'hispanic', 'bmi', 'age_first', 'cancer']]\n",
    "data_second_half = data[['nrelbc', 'brstproc', 'lastmamm', 'surgmeno', 'hrt', 'invasive', 'cancer', 'count']]\n",
    "plot_heatmap(data_first_half.corr(), 'Correlation between features')\n",
    "plot_heatmap(data_second_half.corr(), 'Correlation between features')\"\"\"\n"
   ]
  },
  {
   "cell_type": "code",
   "execution_count": 51,
   "id": "bc3fb2a4",
   "metadata": {},
   "outputs": [
    {
     "data": {
      "text/html": [
       "<div>\n",
       "<style scoped>\n",
       "    .dataframe tbody tr th:only-of-type {\n",
       "        vertical-align: middle;\n",
       "    }\n",
       "\n",
       "    .dataframe tbody tr th {\n",
       "        vertical-align: top;\n",
       "    }\n",
       "\n",
       "    .dataframe thead th {\n",
       "        text-align: right;\n",
       "    }\n",
       "</style>\n",
       "<table border=\"1\" class=\"dataframe\">\n",
       "  <thead>\n",
       "    <tr style=\"text-align: right;\">\n",
       "      <th></th>\n",
       "      <th>cancer</th>\n",
       "    </tr>\n",
       "  </thead>\n",
       "  <tbody>\n",
       "    <tr>\n",
       "      <th>cancer</th>\n",
       "      <td>1.000000</td>\n",
       "    </tr>\n",
       "    <tr>\n",
       "      <th>invasive</th>\n",
       "      <td>0.881413</td>\n",
       "    </tr>\n",
       "    <tr>\n",
       "      <th>age_first</th>\n",
       "      <td>0.054298</td>\n",
       "    </tr>\n",
       "    <tr>\n",
       "      <th>bmi</th>\n",
       "      <td>0.037222</td>\n",
       "    </tr>\n",
       "    <tr>\n",
       "      <th>training</th>\n",
       "      <td>0.030339</td>\n",
       "    </tr>\n",
       "    <tr>\n",
       "      <th>density</th>\n",
       "      <td>0.027766</td>\n",
       "    </tr>\n",
       "    <tr>\n",
       "      <th>age_grp</th>\n",
       "      <td>0.026777</td>\n",
       "    </tr>\n",
       "    <tr>\n",
       "      <th>surgmeno</th>\n",
       "      <td>0.000182</td>\n",
       "    </tr>\n",
       "  </tbody>\n",
       "</table>\n",
       "</div>"
      ],
      "text/plain": [
       "             cancer\n",
       "cancer     1.000000\n",
       "invasive   0.881413\n",
       "age_first  0.054298\n",
       "bmi        0.037222\n",
       "training   0.030339\n",
       "density    0.027766\n",
       "age_grp    0.026777\n",
       "surgmeno   0.000182"
      ]
     },
     "execution_count": 51,
     "metadata": {},
     "output_type": "execute_result"
    }
   ],
   "source": [
    "corrm = data.corr()\n",
    "\n",
    "pos_cor = corrm['cancer'] >0\n",
    "corrm['cancer'][pos_cor].sort_values(ascending = False).to_frame()"
   ]
  },
  {
   "cell_type": "code",
   "execution_count": 52,
   "id": "3437c822",
   "metadata": {},
   "outputs": [
    {
     "data": {
      "text/html": [
       "<div>\n",
       "<style scoped>\n",
       "    .dataframe tbody tr th:only-of-type {\n",
       "        vertical-align: middle;\n",
       "    }\n",
       "\n",
       "    .dataframe tbody tr th {\n",
       "        vertical-align: top;\n",
       "    }\n",
       "\n",
       "    .dataframe thead th {\n",
       "        text-align: right;\n",
       "    }\n",
       "</style>\n",
       "<table border=\"1\" class=\"dataframe\">\n",
       "  <thead>\n",
       "    <tr style=\"text-align: right;\">\n",
       "      <th></th>\n",
       "      <th>cancer</th>\n",
       "    </tr>\n",
       "  </thead>\n",
       "  <tbody>\n",
       "    <tr>\n",
       "      <th>hispanic</th>\n",
       "      <td>-0.037452</td>\n",
       "    </tr>\n",
       "    <tr>\n",
       "      <th>race</th>\n",
       "      <td>-0.033083</td>\n",
       "    </tr>\n",
       "    <tr>\n",
       "      <th>count</th>\n",
       "      <td>-0.029367</td>\n",
       "    </tr>\n",
       "    <tr>\n",
       "      <th>brstproc</th>\n",
       "      <td>-0.008413</td>\n",
       "    </tr>\n",
       "    <tr>\n",
       "      <th>menopaus</th>\n",
       "      <td>-0.005317</td>\n",
       "    </tr>\n",
       "    <tr>\n",
       "      <th>hrt</th>\n",
       "      <td>-0.001921</td>\n",
       "    </tr>\n",
       "    <tr>\n",
       "      <th>lastmamm</th>\n",
       "      <td>-0.001747</td>\n",
       "    </tr>\n",
       "    <tr>\n",
       "      <th>nrelbc</th>\n",
       "      <td>-0.001148</td>\n",
       "    </tr>\n",
       "  </tbody>\n",
       "</table>\n",
       "</div>"
      ],
      "text/plain": [
       "            cancer\n",
       "hispanic -0.037452\n",
       "race     -0.033083\n",
       "count    -0.029367\n",
       "brstproc -0.008413\n",
       "menopaus -0.005317\n",
       "hrt      -0.001921\n",
       "lastmamm -0.001747\n",
       "nrelbc   -0.001148"
      ]
     },
     "execution_count": 52,
     "metadata": {},
     "output_type": "execute_result"
    }
   ],
   "source": [
    "neg_cor = corrm['cancer'] <0\n",
    "corrm['cancer'][neg_cor].sort_values(ascending = True).to_frame()"
   ]
  },
  {
   "cell_type": "markdown",
   "id": "8a946ee8",
   "metadata": {},
   "source": [
    "IDEAS FOR EDA\n",
    "\n",
    "Hypothesis test in this project\n",
    "How important is race in determining breast cancer? Do t-test and chi-squared test.\n",
    "What other hypotheses can we come up with?\n",
    "\n",
    "\n",
    "BRCA Mutations?"
   ]
  },
  {
   "cell_type": "code",
   "execution_count": 53,
   "id": "bb1427b8",
   "metadata": {},
   "outputs": [],
   "source": [
    "from scipy import interp\n",
    "from scipy.optimize import fsolve\n",
    "from scipy.stats import chi2_contingency, ttest_ind"
   ]
  },
  {
   "cell_type": "code",
   "execution_count": 54,
   "id": "a4c34d44",
   "metadata": {},
   "outputs": [
    {
     "name": "stdout",
     "output_type": "stream",
     "text": [
      "Number of unknowns in menopaus 11518\n",
      "Number of unknowns in age_grp 14037\n",
      "Number of unknowns in density 46296\n",
      "Number of unknowns in race 37367\n",
      "Number of unknowns in hispanic 53376\n",
      "Number of unknowns in bmi 73445\n",
      "Number of unknowns in age_first 63669\n",
      "Number of unknowns in nrelbc 24923\n",
      "Number of unknowns in brstproc 21971\n",
      "Number of unknowns in lastmamm 69861\n",
      "Number of unknowns in surgmeno 83545\n",
      "Number of unknowns in hrt 64489\n",
      "Number of unknowns in invasive 0\n",
      "Number of unknowns in cancer 0\n"
     ]
    }
   ],
   "source": [
    "for col in ['menopaus', 'age_grp', 'density', 'race', 'hispanic', 'bmi', 'age_first', 'nrelbc', 'brstproc', 'lastmamm', 'surgmeno', 'hrt', 'invasive', 'cancer']:\n",
    "    print('Number of unknowns in', col, (data[col] == 9).sum())"
   ]
  },
  {
   "cell_type": "code",
   "execution_count": 55,
   "id": "0d23730f",
   "metadata": {},
   "outputs": [],
   "source": [
    "#for col in ['menopaus', 'age_grp', 'density', 'race', 'hispanic', 'bmi', 'age_first', 'nrelbc', 'brstproc', 'lastmamm', 'surgmeno', 'hrt', 'invasive']:\n",
    "data_known = data.query('(menopaus != 9) and (age_grp != 9) and (density != 9) and (race != 9) and (bmi != 9) and (age_first != 9) and (nrelbc != 9) and (brstproc != 9) and (lastmamm != 9) and (surgmeno != 9) and (hrt != 9) and (hispanic != 9)')\n"
   ]
  },
  {
   "cell_type": "code",
   "execution_count": 56,
   "id": "5cff3662",
   "metadata": {},
   "outputs": [
    {
     "data": {
      "text/plain": [
       "(10314, 16)"
      ]
     },
     "execution_count": 56,
     "metadata": {},
     "output_type": "execute_result"
    }
   ],
   "source": [
    "#contingency & stratified contingency tables for the race data?\n",
    "data_known.shape"
   ]
  },
  {
   "cell_type": "code",
   "execution_count": 57,
   "id": "39c14b0c",
   "metadata": {},
   "outputs": [],
   "source": [
    "def get_ct(df, var):\n",
    "    ct_res = pd.crosstab(df[var], df['cancer'], margins=True)\n",
    "    ct_res['Incidence(%)'] = round( ct_res[1]/ct_res['All']*100, 2)\n",
    "    return ct_res.drop(columns='All')"
   ]
  },
  {
   "cell_type": "code",
   "execution_count": 22,
   "id": "eef29d18",
   "metadata": {},
   "outputs": [],
   "source": [
    "def get_ct_stra(df,stra_var):\n",
    "    ct_stra = pd.crosstab(index=[stra_var,df.race], columns = df.cancer, margins = True)\n",
    "    ct_stra['Incidence(%)'] = round(ct_stra[1]/ct_stra['All']*100,2)\n",
    "    return ct_stra.drop(columns='All').drop('All', level=0)"
   ]
  },
  {
   "cell_type": "markdown",
   "id": "0fdd719e",
   "metadata": {},
   "source": [
    "Is this p-value statistically significant? Yes. Why? enrollment bias? missing demographic data? differences in clinical follow-up?"
   ]
  },
  {
   "cell_type": "markdown",
   "id": "27516963",
   "metadata": {},
   "source": [
    "## Analysis on entire dataset\n",
    "#### Cancer here refers to invasive ductal carcinoma or ductal carcinoma in situ"
   ]
  },
  {
   "cell_type": "code",
   "execution_count": 58,
   "id": "e037a008",
   "metadata": {},
   "outputs": [
    {
     "data": {
      "text/plain": [
       "Index(['menopaus', 'age_grp', 'density', 'race', 'hispanic', 'bmi',\n",
       "       'age_first', 'nrelbc', 'brstproc', 'lastmamm', 'surgmeno', 'hrt',\n",
       "       'invasive', 'cancer', 'training', 'count'],\n",
       "      dtype='object')"
      ]
     },
     "execution_count": 58,
     "metadata": {},
     "output_type": "execute_result"
    }
   ],
   "source": [
    "data.columns"
   ]
  },
  {
   "cell_type": "code",
   "execution_count": 59,
   "id": "5c629af7",
   "metadata": {},
   "outputs": [
    {
     "data": {
      "text/html": [
       "<div>\n",
       "<style scoped>\n",
       "    .dataframe tbody tr th:only-of-type {\n",
       "        vertical-align: middle;\n",
       "    }\n",
       "\n",
       "    .dataframe tbody tr th {\n",
       "        vertical-align: top;\n",
       "    }\n",
       "\n",
       "    .dataframe thead th {\n",
       "        text-align: right;\n",
       "    }\n",
       "</style>\n",
       "<table border=\"1\" class=\"dataframe\">\n",
       "  <thead>\n",
       "    <tr style=\"text-align: right;\">\n",
       "      <th></th>\n",
       "      <th>cancer</th>\n",
       "      <th>0</th>\n",
       "      <th>1</th>\n",
       "      <th>Incidence(%)</th>\n",
       "    </tr>\n",
       "    <tr>\n",
       "      <th>hispanic</th>\n",
       "      <th>race</th>\n",
       "      <th></th>\n",
       "      <th></th>\n",
       "      <th></th>\n",
       "    </tr>\n",
       "  </thead>\n",
       "  <tbody>\n",
       "    <tr>\n",
       "      <th rowspan=\"6\" valign=\"top\">0</th>\n",
       "      <th>1</th>\n",
       "      <td>64184</td>\n",
       "      <td>3803</td>\n",
       "      <td>5.59</td>\n",
       "    </tr>\n",
       "    <tr>\n",
       "      <th>2</th>\n",
       "      <td>11029</td>\n",
       "      <td>188</td>\n",
       "      <td>1.68</td>\n",
       "    </tr>\n",
       "    <tr>\n",
       "      <th>3</th>\n",
       "      <td>11007</td>\n",
       "      <td>350</td>\n",
       "      <td>3.08</td>\n",
       "    </tr>\n",
       "    <tr>\n",
       "      <th>4</th>\n",
       "      <td>3662</td>\n",
       "      <td>38</td>\n",
       "      <td>1.03</td>\n",
       "    </tr>\n",
       "    <tr>\n",
       "      <th>5</th>\n",
       "      <td>3706</td>\n",
       "      <td>37</td>\n",
       "      <td>0.99</td>\n",
       "    </tr>\n",
       "    <tr>\n",
       "      <th>9</th>\n",
       "      <td>4935</td>\n",
       "      <td>131</td>\n",
       "      <td>2.59</td>\n",
       "    </tr>\n",
       "    <tr>\n",
       "      <th rowspan=\"6\" valign=\"top\">1</th>\n",
       "      <th>1</th>\n",
       "      <td>15072</td>\n",
       "      <td>302</td>\n",
       "      <td>1.96</td>\n",
       "    </tr>\n",
       "    <tr>\n",
       "      <th>2</th>\n",
       "      <td>521</td>\n",
       "      <td>4</td>\n",
       "      <td>0.76</td>\n",
       "    </tr>\n",
       "    <tr>\n",
       "      <th>3</th>\n",
       "      <td>229</td>\n",
       "      <td>1</td>\n",
       "      <td>0.43</td>\n",
       "    </tr>\n",
       "    <tr>\n",
       "      <th>4</th>\n",
       "      <td>375</td>\n",
       "      <td>3</td>\n",
       "      <td>0.79</td>\n",
       "    </tr>\n",
       "    <tr>\n",
       "      <th>5</th>\n",
       "      <td>2443</td>\n",
       "      <td>20</td>\n",
       "      <td>0.81</td>\n",
       "    </tr>\n",
       "    <tr>\n",
       "      <th>9</th>\n",
       "      <td>6430</td>\n",
       "      <td>57</td>\n",
       "      <td>0.88</td>\n",
       "    </tr>\n",
       "    <tr>\n",
       "      <th rowspan=\"6\" valign=\"top\">9</th>\n",
       "      <th>1</th>\n",
       "      <td>20250</td>\n",
       "      <td>379</td>\n",
       "      <td>1.84</td>\n",
       "    </tr>\n",
       "    <tr>\n",
       "      <th>2</th>\n",
       "      <td>2069</td>\n",
       "      <td>52</td>\n",
       "      <td>2.45</td>\n",
       "    </tr>\n",
       "    <tr>\n",
       "      <th>3</th>\n",
       "      <td>1638</td>\n",
       "      <td>11</td>\n",
       "      <td>0.67</td>\n",
       "    </tr>\n",
       "    <tr>\n",
       "      <th>4</th>\n",
       "      <td>2248</td>\n",
       "      <td>18</td>\n",
       "      <td>0.79</td>\n",
       "    </tr>\n",
       "    <tr>\n",
       "      <th>5</th>\n",
       "      <td>887</td>\n",
       "      <td>10</td>\n",
       "      <td>1.11</td>\n",
       "    </tr>\n",
       "    <tr>\n",
       "      <th>9</th>\n",
       "      <td>24944</td>\n",
       "      <td>870</td>\n",
       "      <td>3.37</td>\n",
       "    </tr>\n",
       "  </tbody>\n",
       "</table>\n",
       "</div>"
      ],
      "text/plain": [
       "cancer             0     1  Incidence(%)\n",
       "hispanic race                           \n",
       "0        1     64184  3803          5.59\n",
       "         2     11029   188          1.68\n",
       "         3     11007   350          3.08\n",
       "         4      3662    38          1.03\n",
       "         5      3706    37          0.99\n",
       "         9      4935   131          2.59\n",
       "1        1     15072   302          1.96\n",
       "         2       521     4          0.76\n",
       "         3       229     1          0.43\n",
       "         4       375     3          0.79\n",
       "         5      2443    20          0.81\n",
       "         9      6430    57          0.88\n",
       "9        1     20250   379          1.84\n",
       "         2      2069    52          2.45\n",
       "         3      1638    11          0.67\n",
       "         4      2248    18          0.79\n",
       "         5       887    10          1.11\n",
       "         9     24944   870          3.37"
      ]
     },
     "execution_count": 59,
     "metadata": {},
     "output_type": "execute_result"
    }
   ],
   "source": [
    "#Using original data for this!!!\n",
    "#0 = no; 1 = yes; 9 = unknown\n",
    "get_ct_stra(data, data.hispanic)"
   ]
  },
  {
   "cell_type": "code",
   "execution_count": 60,
   "id": "405e0b20",
   "metadata": {},
   "outputs": [
    {
     "data": {
      "text/html": [
       "<div>\n",
       "<style scoped>\n",
       "    .dataframe tbody tr th:only-of-type {\n",
       "        vertical-align: middle;\n",
       "    }\n",
       "\n",
       "    .dataframe tbody tr th {\n",
       "        vertical-align: top;\n",
       "    }\n",
       "\n",
       "    .dataframe thead th {\n",
       "        text-align: right;\n",
       "    }\n",
       "</style>\n",
       "<table border=\"1\" class=\"dataframe\">\n",
       "  <thead>\n",
       "    <tr style=\"text-align: right;\">\n",
       "      <th>cancer</th>\n",
       "      <th>0</th>\n",
       "      <th>1</th>\n",
       "      <th>Incidence(%)</th>\n",
       "    </tr>\n",
       "    <tr>\n",
       "      <th>race</th>\n",
       "      <th></th>\n",
       "      <th></th>\n",
       "      <th></th>\n",
       "    </tr>\n",
       "  </thead>\n",
       "  <tbody>\n",
       "    <tr>\n",
       "      <th>1</th>\n",
       "      <td>99506</td>\n",
       "      <td>4484</td>\n",
       "      <td>4.31</td>\n",
       "    </tr>\n",
       "    <tr>\n",
       "      <th>2</th>\n",
       "      <td>13619</td>\n",
       "      <td>244</td>\n",
       "      <td>1.76</td>\n",
       "    </tr>\n",
       "    <tr>\n",
       "      <th>3</th>\n",
       "      <td>12874</td>\n",
       "      <td>362</td>\n",
       "      <td>2.73</td>\n",
       "    </tr>\n",
       "    <tr>\n",
       "      <th>4</th>\n",
       "      <td>6285</td>\n",
       "      <td>59</td>\n",
       "      <td>0.93</td>\n",
       "    </tr>\n",
       "    <tr>\n",
       "      <th>5</th>\n",
       "      <td>7036</td>\n",
       "      <td>67</td>\n",
       "      <td>0.94</td>\n",
       "    </tr>\n",
       "    <tr>\n",
       "      <th>9</th>\n",
       "      <td>36309</td>\n",
       "      <td>1058</td>\n",
       "      <td>2.83</td>\n",
       "    </tr>\n",
       "    <tr>\n",
       "      <th>All</th>\n",
       "      <td>175629</td>\n",
       "      <td>6274</td>\n",
       "      <td>3.45</td>\n",
       "    </tr>\n",
       "  </tbody>\n",
       "</table>\n",
       "</div>"
      ],
      "text/plain": [
       "cancer       0     1  Incidence(%)\n",
       "race                              \n",
       "1        99506  4484          4.31\n",
       "2        13619   244          1.76\n",
       "3        12874   362          2.73\n",
       "4         6285    59          0.93\n",
       "5         7036    67          0.94\n",
       "9        36309  1058          2.83\n",
       "All     175629  6274          3.45"
      ]
     },
     "execution_count": 60,
     "metadata": {},
     "output_type": "execute_result"
    }
   ],
   "source": [
    "get_ct(data, 'race')"
   ]
  },
  {
   "cell_type": "code",
   "execution_count": 61,
   "id": "a481b169",
   "metadata": {},
   "outputs": [
    {
     "data": {
      "text/html": [
       "<div>\n",
       "<style scoped>\n",
       "    .dataframe tbody tr th:only-of-type {\n",
       "        vertical-align: middle;\n",
       "    }\n",
       "\n",
       "    .dataframe tbody tr th {\n",
       "        vertical-align: top;\n",
       "    }\n",
       "\n",
       "    .dataframe thead th {\n",
       "        text-align: right;\n",
       "    }\n",
       "</style>\n",
       "<table border=\"1\" class=\"dataframe\">\n",
       "  <thead>\n",
       "    <tr style=\"text-align: right;\">\n",
       "      <th>cancer</th>\n",
       "      <th>0</th>\n",
       "      <th>1</th>\n",
       "      <th>Incidence(%)</th>\n",
       "    </tr>\n",
       "    <tr>\n",
       "      <th>age_grp</th>\n",
       "      <th></th>\n",
       "      <th></th>\n",
       "      <th></th>\n",
       "    </tr>\n",
       "  </thead>\n",
       "  <tbody>\n",
       "    <tr>\n",
       "      <th>1</th>\n",
       "      <td>6121</td>\n",
       "      <td>77</td>\n",
       "      <td>1.24</td>\n",
       "    </tr>\n",
       "    <tr>\n",
       "      <th>2</th>\n",
       "      <td>14335</td>\n",
       "      <td>438</td>\n",
       "      <td>2.96</td>\n",
       "    </tr>\n",
       "    <tr>\n",
       "      <th>3</th>\n",
       "      <td>26258</td>\n",
       "      <td>760</td>\n",
       "      <td>2.81</td>\n",
       "    </tr>\n",
       "    <tr>\n",
       "      <th>4</th>\n",
       "      <td>29542</td>\n",
       "      <td>952</td>\n",
       "      <td>3.12</td>\n",
       "    </tr>\n",
       "    <tr>\n",
       "      <th>5</th>\n",
       "      <td>22834</td>\n",
       "      <td>890</td>\n",
       "      <td>3.75</td>\n",
       "    </tr>\n",
       "    <tr>\n",
       "      <th>6</th>\n",
       "      <td>19518</td>\n",
       "      <td>792</td>\n",
       "      <td>3.90</td>\n",
       "    </tr>\n",
       "    <tr>\n",
       "      <th>7</th>\n",
       "      <td>17763</td>\n",
       "      <td>774</td>\n",
       "      <td>4.18</td>\n",
       "    </tr>\n",
       "    <tr>\n",
       "      <th>8</th>\n",
       "      <td>16255</td>\n",
       "      <td>707</td>\n",
       "      <td>4.17</td>\n",
       "    </tr>\n",
       "    <tr>\n",
       "      <th>9</th>\n",
       "      <td>13475</td>\n",
       "      <td>562</td>\n",
       "      <td>4.00</td>\n",
       "    </tr>\n",
       "    <tr>\n",
       "      <th>10</th>\n",
       "      <td>9528</td>\n",
       "      <td>322</td>\n",
       "      <td>3.27</td>\n",
       "    </tr>\n",
       "    <tr>\n",
       "      <th>All</th>\n",
       "      <td>175629</td>\n",
       "      <td>6274</td>\n",
       "      <td>3.45</td>\n",
       "    </tr>\n",
       "  </tbody>\n",
       "</table>\n",
       "</div>"
      ],
      "text/plain": [
       "cancer        0     1  Incidence(%)\n",
       "age_grp                            \n",
       "1          6121    77          1.24\n",
       "2         14335   438          2.96\n",
       "3         26258   760          2.81\n",
       "4         29542   952          3.12\n",
       "5         22834   890          3.75\n",
       "6         19518   792          3.90\n",
       "7         17763   774          4.18\n",
       "8         16255   707          4.17\n",
       "9         13475   562          4.00\n",
       "10         9528   322          3.27\n",
       "All      175629  6274          3.45"
      ]
     },
     "execution_count": 61,
     "metadata": {},
     "output_type": "execute_result"
    }
   ],
   "source": [
    "get_ct(data, 'age_grp')"
   ]
  },
  {
   "cell_type": "code",
   "execution_count": 62,
   "id": "f17f291b",
   "metadata": {},
   "outputs": [
    {
     "data": {
      "text/html": [
       "<div>\n",
       "<style scoped>\n",
       "    .dataframe tbody tr th:only-of-type {\n",
       "        vertical-align: middle;\n",
       "    }\n",
       "\n",
       "    .dataframe tbody tr th {\n",
       "        vertical-align: top;\n",
       "    }\n",
       "\n",
       "    .dataframe thead th {\n",
       "        text-align: right;\n",
       "    }\n",
       "</style>\n",
       "<table border=\"1\" class=\"dataframe\">\n",
       "  <thead>\n",
       "    <tr style=\"text-align: right;\">\n",
       "      <th>cancer</th>\n",
       "      <th>0</th>\n",
       "      <th>1</th>\n",
       "      <th>Incidence(%)</th>\n",
       "    </tr>\n",
       "    <tr>\n",
       "      <th>age_first</th>\n",
       "      <th></th>\n",
       "      <th></th>\n",
       "      <th></th>\n",
       "    </tr>\n",
       "  </thead>\n",
       "  <tbody>\n",
       "    <tr>\n",
       "      <th>0</th>\n",
       "      <td>70021</td>\n",
       "      <td>2115</td>\n",
       "      <td>2.93</td>\n",
       "    </tr>\n",
       "    <tr>\n",
       "      <th>1</th>\n",
       "      <td>19471</td>\n",
       "      <td>436</td>\n",
       "      <td>2.19</td>\n",
       "    </tr>\n",
       "    <tr>\n",
       "      <th>2</th>\n",
       "      <td>25566</td>\n",
       "      <td>625</td>\n",
       "      <td>2.39</td>\n",
       "    </tr>\n",
       "    <tr>\n",
       "      <th>9</th>\n",
       "      <td>60571</td>\n",
       "      <td>3098</td>\n",
       "      <td>4.87</td>\n",
       "    </tr>\n",
       "    <tr>\n",
       "      <th>All</th>\n",
       "      <td>175629</td>\n",
       "      <td>6274</td>\n",
       "      <td>3.45</td>\n",
       "    </tr>\n",
       "  </tbody>\n",
       "</table>\n",
       "</div>"
      ],
      "text/plain": [
       "cancer          0     1  Incidence(%)\n",
       "age_first                            \n",
       "0           70021  2115          2.93\n",
       "1           19471   436          2.19\n",
       "2           25566   625          2.39\n",
       "9           60571  3098          4.87\n",
       "All        175629  6274          3.45"
      ]
     },
     "execution_count": 62,
     "metadata": {},
     "output_type": "execute_result"
    }
   ],
   "source": [
    "get_ct(data, 'age_first')"
   ]
  },
  {
   "cell_type": "code",
   "execution_count": 63,
   "id": "350dd758",
   "metadata": {},
   "outputs": [
    {
     "data": {
      "text/html": [
       "<div>\n",
       "<style scoped>\n",
       "    .dataframe tbody tr th:only-of-type {\n",
       "        vertical-align: middle;\n",
       "    }\n",
       "\n",
       "    .dataframe tbody tr th {\n",
       "        vertical-align: top;\n",
       "    }\n",
       "\n",
       "    .dataframe thead th {\n",
       "        text-align: right;\n",
       "    }\n",
       "</style>\n",
       "<table border=\"1\" class=\"dataframe\">\n",
       "  <thead>\n",
       "    <tr style=\"text-align: right;\">\n",
       "      <th>cancer</th>\n",
       "      <th>0</th>\n",
       "      <th>1</th>\n",
       "      <th>Incidence(%)</th>\n",
       "    </tr>\n",
       "    <tr>\n",
       "      <th>bmi</th>\n",
       "      <th></th>\n",
       "      <th></th>\n",
       "      <th></th>\n",
       "    </tr>\n",
       "  </thead>\n",
       "  <tbody>\n",
       "    <tr>\n",
       "      <th>1</th>\n",
       "      <td>39646</td>\n",
       "      <td>1363</td>\n",
       "      <td>3.32</td>\n",
       "    </tr>\n",
       "    <tr>\n",
       "      <th>2</th>\n",
       "      <td>32406</td>\n",
       "      <td>987</td>\n",
       "      <td>2.96</td>\n",
       "    </tr>\n",
       "    <tr>\n",
       "      <th>3</th>\n",
       "      <td>20075</td>\n",
       "      <td>435</td>\n",
       "      <td>2.12</td>\n",
       "    </tr>\n",
       "    <tr>\n",
       "      <th>4</th>\n",
       "      <td>13303</td>\n",
       "      <td>243</td>\n",
       "      <td>1.79</td>\n",
       "    </tr>\n",
       "    <tr>\n",
       "      <th>9</th>\n",
       "      <td>70199</td>\n",
       "      <td>3246</td>\n",
       "      <td>4.42</td>\n",
       "    </tr>\n",
       "    <tr>\n",
       "      <th>All</th>\n",
       "      <td>175629</td>\n",
       "      <td>6274</td>\n",
       "      <td>3.45</td>\n",
       "    </tr>\n",
       "  </tbody>\n",
       "</table>\n",
       "</div>"
      ],
      "text/plain": [
       "cancer       0     1  Incidence(%)\n",
       "bmi                               \n",
       "1        39646  1363          3.32\n",
       "2        32406   987          2.96\n",
       "3        20075   435          2.12\n",
       "4        13303   243          1.79\n",
       "9        70199  3246          4.42\n",
       "All     175629  6274          3.45"
      ]
     },
     "execution_count": 63,
     "metadata": {},
     "output_type": "execute_result"
    }
   ],
   "source": [
    "get_ct(data, 'bmi')"
   ]
  },
  {
   "cell_type": "markdown",
   "id": "195b8f4b",
   "metadata": {},
   "source": [
    "Incidence Rate is still higher for non-hispanic white folks"
   ]
  },
  {
   "cell_type": "code",
   "execution_count": 65,
   "id": "ddd9f508",
   "metadata": {},
   "outputs": [],
   "source": [
    "def plot_cnf_matrix(cnf_matrix):\n",
    "    class_names=[0,1] # name  of classes\n",
    "    fig, ax = plt.subplots()\n",
    "    tick_marks = np.arange(len(class_names))\n",
    "    plt.xticks(tick_marks, class_names)\n",
    "    plt.yticks(tick_marks, class_names)\n",
    "    # create heatmap\n",
    "    sns.heatmap(pd.DataFrame(cnf_matrix), annot=True, cmap=\"YlGnBu\" ,fmt='g')\n",
    "    ax.xaxis.set_label_position(\"top\")\n",
    "    plt.tight_layout()\n",
    "    plt.title('Confusion matrix', y=1.1)\n",
    "    plt.ylabel('Actual label')\n",
    "    plt.xlabel('Predicted label')"
   ]
  },
  {
   "cell_type": "markdown",
   "id": "5ec095d4",
   "metadata": {},
   "source": [
    "## What are the most important features?"
   ]
  },
  {
   "cell_type": "markdown",
   "id": "e5ce98dc",
   "metadata": {},
   "source": [
    "- Invasive should not be a feature in predicting Invasive ductal carcinoma or DC in situ because the latter results in the former. It is likely that knowledge on invasive breast cancer already means that IDC or DC in situ has already been diagnosed? Thus including invasive as a label in predicting IDC or DC in situ will result in data leakage. Including invasive as a feature in logistic regression model resulting in a coefficient of 40 088 whereas all other coeffs were less than 2. Also shown in the high positive correlation between invasive and cancer (0.88)"
   ]
  },
  {
   "cell_type": "code",
   "execution_count": 72,
   "id": "cb74f6f9",
   "metadata": {},
   "outputs": [
    {
     "name": "stdout",
     "output_type": "stream",
     "text": [
      "Number of non-white hispanics in 10083\n",
      "Number of patients diagnosed with both Ductal Carcinoma and Invasive Breast Cancer 4912\n",
      "Number of patients diagnosed with Invasive Breast Cancer and NOT Ductal Carcinoma 0\n"
     ]
    }
   ],
   "source": [
    "#any records with race not ( 1 or white) and hispanic\n",
    "print('Number of non-white hispanics in', len(data.query('race != 1 & hispanic == 1')))\n",
    "#any records with invasive 1 and cancer 1 should be a lot\n",
    "print('Number of patients diagnosed with both Ductal Carcinoma and Invasive Breast Cancer', len(data.query('invasive == 1 & cancer == 1')))\n",
    "#any records with invasive 1 and cancer 0 unlikely\n",
    "print('Number of patients diagnosed with Invasive Breast Cancer and NOT Ductal Carcinoma', len(data.query('invasive == 1 & cancer == 0')))\n"
   ]
  },
  {
   "cell_type": "markdown",
   "id": "39525bf4",
   "metadata": {},
   "source": [
    "### Challenges \n",
    "\n",
    "- Medical data such as this can be highly class imbalanced. \n",
    "- Since the incidence rate of cancer is very low (highest at ~5%), the model achieved high accuracy predicting no cancer for all samples\n",
    "leading to bad precision and recall "
   ]
  },
  {
   "cell_type": "markdown",
   "id": "24815cb8",
   "metadata": {},
   "source": [
    "## Solution to Class Imbalance - SMOTE Algorithm\n",
    "\n",
    "Synthetic Minority Oversampling Technique"
   ]
  },
  {
   "cell_type": "code",
   "execution_count": 82,
   "id": "95ae1420",
   "metadata": {},
   "outputs": [
    {
     "name": "stdout",
     "output_type": "stream",
     "text": [
      "Collecting imblearn\n",
      "  Downloading imblearn-0.0-py2.py3-none-any.whl (1.9 kB)\n",
      "Collecting imbalanced-learn\n",
      "  Using cached imbalanced_learn-0.8.1-py3-none-any.whl (189 kB)\n",
      "Requirement already satisfied: scipy>=0.19.1 in /Users/olohireme/miniforge3/envs/mlp/lib/python3.8/site-packages (from imbalanced-learn->imblearn) (1.7.0)\n",
      "Requirement already satisfied: scikit-learn>=0.24 in /Users/olohireme/miniforge3/envs/mlp/lib/python3.8/site-packages (from imbalanced-learn->imblearn) (0.24.2)\n",
      "Requirement already satisfied: joblib>=0.11 in /Users/olohireme/miniforge3/envs/mlp/lib/python3.8/site-packages (from imbalanced-learn->imblearn) (1.0.1)\n",
      "Requirement already satisfied: numpy>=1.13.3 in /Users/olohireme/miniforge3/envs/mlp/lib/python3.8/site-packages (from imbalanced-learn->imblearn) (1.19.5)\n",
      "Requirement already satisfied: threadpoolctl>=2.0.0 in /Users/olohireme/miniforge3/envs/mlp/lib/python3.8/site-packages (from scikit-learn>=0.24->imbalanced-learn->imblearn) (2.1.0)\n",
      "Installing collected packages: imbalanced-learn, imblearn\n",
      "Successfully installed imbalanced-learn-0.8.1 imblearn-0.0\n"
     ]
    }
   ],
   "source": [
    "!pip install imblearn\n"
   ]
  },
  {
   "cell_type": "code",
   "execution_count": 83,
   "id": "4d3efa2e",
   "metadata": {},
   "outputs": [
    {
     "name": "stdout",
     "output_type": "stream",
     "text": [
      "Shape of X before SMOTE: (181903, 12)\n",
      "Shape of X after SMOTE: (351258, 12)\n",
      "\n",
      "Balance of positive and negative classes (%):\n"
     ]
    },
    {
     "data": {
      "text/plain": [
       "0    50.0\n",
       "1    50.0\n",
       "Name: cancer, dtype: float64"
      ]
     },
     "execution_count": 83,
     "metadata": {},
     "output_type": "execute_result"
    }
   ],
   "source": [
    "from imblearn.over_sampling import SMOTE \n",
    "\n",
    "sm = SMOTE(random_state=42)\n",
    "\n",
    "X_sm, y_sm = sm.fit_resample(X, y)\n",
    "\n",
    "print(f'''Shape of X before SMOTE: {X.shape}\n",
    "Shape of X after SMOTE: {X_sm.shape}''')\n",
    "\n",
    "print('\\nBalance of positive and negative classes (%):')\n",
    "y_sm.value_counts(normalize=True) * 100"
   ]
  },
  {
   "cell_type": "code",
   "execution_count": 84,
   "id": "601efbe8",
   "metadata": {},
   "outputs": [],
   "source": [
    "from sklearn.model_selection import train_test_split\n",
    "X = data[['menopaus', 'age_grp', 'density', 'race', 'hispanic', 'bmi', 'age_first', 'nrelbc', 'brstproc', 'lastmamm', 'surgmeno', 'hrt']]\n",
    "y = data['cancer']\n",
    "X_train, X_test, y_train, y_test = train_test_split(X_sm, y_sm, test_size=0.33, random_state=42)"
   ]
  },
  {
   "cell_type": "code",
   "execution_count": 85,
   "id": "07343adf",
   "metadata": {},
   "outputs": [],
   "source": [
    "from sklearn.linear_model import LogisticRegression\n",
    "model = LogisticRegression()\n",
    "\n",
    "# fit the model with data\n",
    "model.fit(X_train,y_train)\n",
    "\n",
    "#predictions\n",
    "y_pred=model.predict(X_test)"
   ]
  },
  {
   "cell_type": "code",
   "execution_count": 86,
   "id": "824c7d94",
   "metadata": {},
   "outputs": [
    {
     "data": {
      "text/plain": [
       "array([[35645, 22382],\n",
       "       [26516, 31373]])"
      ]
     },
     "execution_count": 86,
     "metadata": {},
     "output_type": "execute_result"
    }
   ],
   "source": [
    "# import the metrics class\n",
    "from sklearn import metrics\n",
    "cnf_matrix = metrics.confusion_matrix(y_test, y_pred)\n",
    "cnf_matrix"
   ]
  },
  {
   "cell_type": "code",
   "execution_count": 87,
   "id": "f335811e",
   "metadata": {},
   "outputs": [
    {
     "data": {
      "image/png": "[encoded data removed]",
      "text/plain": [
       "<Figure size 432x288 with 2 Axes>"
      ]
     },
     "metadata": {
      "needs_background": "light"
     },
     "output_type": "display_data"
    }
   ],
   "source": [
    "plot_cnf_matrix(cnf_matrix)"
   ]
  },
  {
   "cell_type": "code",
   "execution_count": 90,
   "id": "85c52c6d",
   "metadata": {},
   "outputs": [
    {
     "name": "stdout",
     "output_type": "stream",
     "text": [
      "Accuracy: 0.5781600469305359\n",
      "Precision: 0.5836294298204818\n",
      "Recall: 0.5419509751420822\n"
     ]
    }
   ],
   "source": [
    "print(\"Accuracy:\",metrics.accuracy_score(y_test, y_pred))\n",
    "print(\"Precision:\",metrics.precision_score(y_test, y_pred))\n",
    "print(\"Recall:\",metrics.recall_score(y_test, y_pred))"
   ]
  },
  {
   "cell_type": "code",
   "execution_count": 94,
   "id": "9e84560e",
   "metadata": {},
   "outputs": [
    {
     "data": {
      "text/html": [
       "<div>\n",
       "<style scoped>\n",
       "    .dataframe tbody tr th:only-of-type {\n",
       "        vertical-align: middle;\n",
       "    }\n",
       "\n",
       "    .dataframe tbody tr th {\n",
       "        vertical-align: top;\n",
       "    }\n",
       "\n",
       "    .dataframe thead th {\n",
       "        text-align: right;\n",
       "    }\n",
       "</style>\n",
       "<table border=\"1\" class=\"dataframe\">\n",
       "  <thead>\n",
       "    <tr style=\"text-align: right;\">\n",
       "      <th></th>\n",
       "      <th>coef</th>\n",
       "    </tr>\n",
       "  </thead>\n",
       "  <tbody>\n",
       "    <tr>\n",
       "      <th>age_first</th>\n",
       "      <td>1.071530</td>\n",
       "    </tr>\n",
       "    <tr>\n",
       "      <th>bmi</th>\n",
       "      <td>1.036547</td>\n",
       "    </tr>\n",
       "    <tr>\n",
       "      <th>density</th>\n",
       "      <td>1.033254</td>\n",
       "    </tr>\n",
       "    <tr>\n",
       "      <th>age_grp</th>\n",
       "      <td>1.012879</td>\n",
       "    </tr>\n",
       "    <tr>\n",
       "      <th>lastmamm</th>\n",
       "      <td>1.003210</td>\n",
       "    </tr>\n",
       "    <tr>\n",
       "      <th>hrt</th>\n",
       "      <td>1.002985</td>\n",
       "    </tr>\n",
       "    <tr>\n",
       "      <th>surgmeno</th>\n",
       "      <td>0.996152</td>\n",
       "    </tr>\n",
       "    <tr>\n",
       "      <th>menopaus</th>\n",
       "      <td>0.974277</td>\n",
       "    </tr>\n",
       "    <tr>\n",
       "      <th>hispanic</th>\n",
       "      <td>0.973679</td>\n",
       "    </tr>\n",
       "    <tr>\n",
       "      <th>brstproc</th>\n",
       "      <td>0.964362</td>\n",
       "    </tr>\n",
       "    <tr>\n",
       "      <th>nrelbc</th>\n",
       "      <td>0.958267</td>\n",
       "    </tr>\n",
       "    <tr>\n",
       "      <th>race</th>\n",
       "      <td>0.936180</td>\n",
       "    </tr>\n",
       "  </tbody>\n",
       "</table>\n",
       "</div>"
      ],
      "text/plain": [
       "               coef\n",
       "age_first  1.071530\n",
       "bmi        1.036547\n",
       "density    1.033254\n",
       "age_grp    1.012879\n",
       "lastmamm   1.003210\n",
       "hrt        1.002985\n",
       "surgmeno   0.996152\n",
       "menopaus   0.974277\n",
       "hispanic   0.973679\n",
       "brstproc   0.964362\n",
       "nrelbc     0.958267\n",
       "race       0.936180"
      ]
     },
     "execution_count": 94,
     "metadata": {},
     "output_type": "execute_result"
    }
   ],
   "source": [
    "#rank logistic regression coeffs\n",
    "odds = np.exp(model.coef_[0])\n",
    "pd.DataFrame(odds, \n",
    "             X_train.columns, \n",
    "             columns=['coef'])\\\n",
    "            .sort_values(by='coef', ascending=False)"
   ]
  },
  {
   "cell_type": "markdown",
   "id": "2c9bab52",
   "metadata": {},
   "source": [
    "## Support Vector Machines"
   ]
  },
  {
   "cell_type": "code",
   "execution_count": 95,
   "id": "d91883b7",
   "metadata": {},
   "outputs": [],
   "source": [
    "from sklearn import svm\n",
    "clf = svm.SVC()\n",
    "clf.fit(X_train, y_train)\n",
    "y_pred=model.predict(X_test)"
   ]
  },
  {
   "cell_type": "code",
   "execution_count": 96,
   "id": "f55ea072",
   "metadata": {},
   "outputs": [
    {
     "data": {
      "image/png": "[encoded data removed]",
      "text/plain": [
       "<Figure size 432x288 with 2 Axes>"
      ]
     },
     "metadata": {
      "needs_background": "light"
     },
     "output_type": "display_data"
    }
   ],
   "source": [
    "cnf_matrix = metrics.confusion_matrix(y_test, y_pred)\n",
    "plot_cnf_matrix(cnf_matrix)"
   ]
  },
  {
   "cell_type": "code",
   "execution_count": 98,
   "id": "6430a758",
   "metadata": {},
   "outputs": [
    {
     "name": "stdout",
     "output_type": "stream",
     "text": [
      "Accuracy: 0.5781600469305359\n",
      "Precision: 0.5836294298204818\n",
      "Recall: 0.5419509751420822\n",
      "Area Under the Curve nan\n"
     ]
    },
    {
     "name": "stderr",
     "output_type": "stream",
     "text": [
      "/Users/olohireme/miniforge3/envs/mlp/lib/python3.8/site-packages/sklearn/metrics/_ranking.py:949: UndefinedMetricWarning: No positive samples in y_true, true positive value should be meaningless\n",
      "  warnings.warn(\"No positive samples in y_true, \"\n"
     ]
    }
   ],
   "source": [
    "print(\"Accuracy:\",metrics.accuracy_score(y_test, y_pred))\n",
    "print(\"Precision:\",metrics.precision_score(y_test, y_pred))\n",
    "print(\"Recall:\",metrics.recall_score(y_test, y_pred))\n"
   ]
  },
  {
   "cell_type": "code",
   "execution_count": 101,
   "id": "b93eccac",
   "metadata": {},
   "outputs": [
    {
     "name": "stderr",
     "output_type": "stream",
     "text": [
      "/Users/olohireme/miniforge3/envs/mlp/lib/python3.8/site-packages/sklearn/metrics/_ranking.py:949: UndefinedMetricWarning: No positive samples in y_true, true positive value should be meaningless\n",
      "  warnings.warn(\"No positive samples in y_true, \"\n"
     ]
    },
    {
     "data": {
      "text/plain": [
       "array([2, 1, 0])"
      ]
     },
     "execution_count": 101,
     "metadata": {},
     "output_type": "execute_result"
    }
   ],
   "source": [
    "fpr, tpr, thresholds = metrics.roc_curve(y_test, y_pred, pos_label=2)\n",
    "#print(\"Area Under the Curve\", metrics.auc(fpr, tpr))"
   ]
  },
  {
   "cell_type": "markdown",
   "id": "1e7bcd6c",
   "metadata": {},
   "source": [
    "## Gradient Boost Algorithm"
   ]
  },
  {
   "cell_type": "code",
   "execution_count": 102,
   "id": "ad812be4",
   "metadata": {},
   "outputs": [
    {
     "name": "stdout",
     "output_type": "stream",
     "text": [
      "CPU times: user 7min 2s, sys: 1.31 s, total: 7min 4s\n",
      "Wall time: 7min 6s\n"
     ]
    },
    {
     "data": {
      "text/plain": [
       "GradientBoostingClassifier(n_estimators=200, random_state=0)"
      ]
     },
     "execution_count": 102,
     "metadata": {},
     "output_type": "execute_result"
    }
   ],
   "source": [
    "%%time\n",
    "from sklearn.ensemble import GradientBoostingClassifier\n",
    "from sklearn.model_selection import GridSearchCV\n",
    "\n",
    "g_boost = GradientBoostingClassifier(random_state = 0)\n",
    "\n",
    "g_boost_params = [{'n_estimators':[5, 10, 50, 150, 200]}]\n",
    "g_boost_grid = GridSearchCV(g_boost, g_boost_params, cv=10)\n",
    "g_boost_grid.fit(X_train, y_train)\n",
    "g_boost_average_score = g_boost_grid.cv_results_['mean_test_score'].astype(float)\n",
    "result = g_boost_grid.cv_results_\n",
    "g_boost_grid.best_estimator_"
   ]
  },
  {
   "cell_type": "code",
   "execution_count": 103,
   "id": "09a7bf7a",
   "metadata": {},
   "outputs": [
    {
     "data": {
      "text/plain": [
       "array([0.68290401, 0.72765591, 0.77635951, 0.80901412, 0.81546006])"
      ]
     },
     "execution_count": 103,
     "metadata": {},
     "output_type": "execute_result"
    }
   ],
   "source": [
    "g_boost_average_score"
   ]
  },
  {
   "cell_type": "code",
   "execution_count": 104,
   "id": "caa6bf94",
   "metadata": {},
   "outputs": [
    {
     "data": {
      "image/png": "[encoded data removed]",
      "text/plain": [
       "<Figure size 432x288 with 1 Axes>"
      ]
     },
     "metadata": {
      "needs_background": "light"
     },
     "output_type": "display_data"
    }
   ],
   "source": [
    "plt.figure()\n",
    "sns.lineplot(x=[5, 10, 50, 150, 200], y=g_boost_average_score)\n",
    "plt.show()"
   ]
  },
  {
   "cell_type": "code",
   "execution_count": 105,
   "id": "e1058d05",
   "metadata": {},
   "outputs": [
    {
     "name": "stdout",
     "output_type": "stream",
     "text": [
      "Training Set Evaluation\n",
      "Accuracy:  0.7779826805245132\n",
      "CPU times: user 5.56 s, sys: 24.2 ms, total: 5.58 s\n",
      "Wall time: 5.61 s\n"
     ]
    }
   ],
   "source": [
    "%%time\n",
    "# Building model with optimal parameters\n",
    "g_boost = GradientBoostingClassifier(n_estimators=50, random_state=0)\n",
    "g_boost.fit(X_train, y_train)\n",
    "\n",
    "print(\"Training Set Evaluation\")\n",
    "print(\"Accuracy: \", metrics.accuracy_score(y_train, g_boost.predict(X_train)))"
   ]
  },
  {
   "cell_type": "code",
   "execution_count": 108,
   "id": "9b09f4f4",
   "metadata": {},
   "outputs": [
    {
     "name": "stdout",
     "output_type": "stream",
     "text": [
      "Test Set Evaluation\n",
      "Accuracy:  0.7766313537389143\n",
      "Precision: 0.7700305500700457\n",
      "Recall: 0.7880944566325209\n",
      "Area Under Curve nan\n"
     ]
    },
    {
     "name": "stderr",
     "output_type": "stream",
     "text": [
      "/Users/olohireme/miniforge3/envs/mlp/lib/python3.8/site-packages/sklearn/metrics/_ranking.py:949: UndefinedMetricWarning: No positive samples in y_true, true positive value should be meaningless\n",
      "  warnings.warn(\"No positive samples in y_true, \"\n"
     ]
    }
   ],
   "source": [
    "# Evaluating the model on the test set\n",
    "g_boost_pred = g_boost.predict(X_test)\n",
    "print(\"Test Set Evaluation\")\n",
    "print(\"Accuracy: \", metrics.accuracy_score(y_test, g_boost_pred))\n",
    "print(\"Precision:\", metrics.precision_score(y_test, g_boost_pred))\n",
    "print(\"Recall:\",metrics.recall_score(y_test, g_boost_pred))\n",
    "fpr, tpr, thresholds = metrics.roc_curve(y_test, g_boost_pred, pos_label=2)\n",
    "print(\"Area Under Curve\", metrics.auc(fpr, tpr))"
   ]
  },
  {
   "cell_type": "code",
   "execution_count": null,
   "id": "c22b5e3e",
   "metadata": {},
   "outputs": [],
   "source": []
  }
 ],
 "metadata": {
  "kernelspec": {
   "display_name": "Python 3 (ipykernel)",
   "language": "python",
   "name": "python3"
  },
  "language_info": {
   "codemirror_mode": {
    "name": "ipython",
    "version": 3
   },
   "file_extension": ".py",
   "mimetype": "text/x-python",
   "name": "python",
   "nbconvert_exporter": "python",
   "pygments_lexer": "ipython3",
   "version": "3.8.10"
  }
 },
 "nbformat": 4,
 "nbformat_minor": 5
}
